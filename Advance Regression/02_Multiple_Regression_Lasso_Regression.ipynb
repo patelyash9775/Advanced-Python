{
  "nbformat": 4,
  "nbformat_minor": 0,
  "metadata": {
    "colab": {
      "name": "02-Multiple_Regression - Lasso Regression.ipynb",
      "provenance": [],
      "collapsed_sections": [],
      "authorship_tag": "ABX9TyOIKXvCOyeOyAvjuyg4A29o",
      "include_colab_link": true
    },
    "kernelspec": {
      "name": "python3",
      "display_name": "Python 3"
    },
    "language_info": {
      "name": "python"
    },
    "accelerator": "GPU"
  },
  "cells": [
    {
      "cell_type": "markdown",
      "metadata": {
        "id": "view-in-github",
        "colab_type": "text"
      },
      "source": [
        "<a href=\"https://colab.research.google.com/github/patelyash9775/Advanced-Python/blob/main/Advance%20Regression/02_Multiple_Regression_Lasso_Regression.ipynb\" target=\"_parent\"><img src=\"https://colab.research.google.com/assets/colab-badge.svg\" alt=\"Open In Colab\"/></a>"
      ]
    },
    {
      "cell_type": "markdown",
      "metadata": {
        "id": "suOjLVzbWg9X"
      },
      "source": [
        "## **TensorFlow 2: Advanced Linear & Lasso Regression in Python**\n",
        "\n",
        "*Topic: Advanced Linear Regression*\n",
        "  - *part-2: Feature Engineering*\n",
        "    - *Lesson: Multiple Linear Regression*\n",
        "    - *Lesson: LASSO Regression*\n",
        "    - *Lesson: Feature Selection based on Penality Factor*\n",
        "\n",
        "**PROJECT: CUSTOMER REVENUE PREDICTION**"
      ]
    },
    {
      "cell_type": "code",
      "metadata": {
        "colab": {
          "base_uri": "https://localhost:8080/"
        },
        "id": "zzRoqSllYAUZ",
        "outputId": "f06cc097-b6e8-490d-c905-c445ce127e30"
      },
      "source": [
        "from google.colab import drive\n",
        "drive.mount('drive/')"
      ],
      "execution_count": null,
      "outputs": [
        {
          "output_type": "stream",
          "text": [
            "Mounted at drive/\n"
          ],
          "name": "stdout"
        }
      ]
    },
    {
      "cell_type": "code",
      "metadata": {
        "id": "r7rVGVO-ZFfB"
      },
      "source": [
        "import os\n",
        "import numpy as np\n",
        "import pandas as pd\n",
        "import matplotlib.pyplot as plt"
      ],
      "execution_count": null,
      "outputs": []
    },
    {
      "cell_type": "code",
      "metadata": {
        "id": "yD8zIT13ZJ_s"
      },
      "source": [
        "%tensorflow_version 2.x\n",
        "import tensorflow as tf"
      ],
      "execution_count": null,
      "outputs": []
    },
    {
      "cell_type": "code",
      "metadata": {
        "id": "Tylue2z_ZUEy"
      },
      "source": [
        "os.chdir('drive/MyDrive/Advance Regression')"
      ],
      "execution_count": null,
      "outputs": []
    },
    {
      "cell_type": "code",
      "metadata": {
        "colab": {
          "base_uri": "https://localhost:8080/"
        },
        "id": "UulpCEabZwMb",
        "outputId": "15b4e3cc-e853-4360-d2a3-faddcae76f45"
      },
      "source": [
        "ls preprocessing/"
      ],
      "execution_count": null,
      "outputs": [
        {
          "output_type": "stream",
          "text": [
            "x_norm.pickle  y_norm.pickle\n"
          ],
          "name": "stdout"
        }
      ]
    },
    {
      "cell_type": "code",
      "metadata": {
        "id": "-mX2grzvZ43Q"
      },
      "source": [
        "import pickle"
      ],
      "execution_count": null,
      "outputs": []
    },
    {
      "cell_type": "markdown",
      "metadata": {
        "id": "KesmbccJZ96q"
      },
      "source": [
        "\n",
        "### **Loading Data**"
      ]
    },
    {
      "cell_type": "code",
      "metadata": {
        "id": "KO96qCWvaBxz"
      },
      "source": [
        "# loading preprocessed data\n",
        "x = pickle.load(open('preprocessing/x_norm.pickle','rb'))\n",
        "y = pickle.load(open('preprocessing/y_norm.pickle','rb'))"
      ],
      "execution_count": null,
      "outputs": []
    },
    {
      "cell_type": "code",
      "metadata": {
        "id": "l0e9CVbFaH1H"
      },
      "source": [
        "x.drop('index',axis=1,inplace=True) # drop index"
      ],
      "execution_count": null,
      "outputs": []
    },
    {
      "cell_type": "markdown",
      "metadata": {
        "id": "gG6BV2M2aPd_"
      },
      "source": [
        "### **Multiple Linear Regression**\n",
        "$\\hat y = a + b_1 X_1 + b_2 X_2 + ... + b_n X_n $"
      ]
    },
    {
      "cell_type": "code",
      "metadata": {
        "id": "aYEJ3TDoadgC"
      },
      "source": [
        "# convert into array\n",
        "x = x.values\n",
        "y = y.values"
      ],
      "execution_count": null,
      "outputs": []
    },
    {
      "cell_type": "code",
      "metadata": {
        "colab": {
          "base_uri": "https://localhost:8080/"
        },
        "id": "toTfD0YWalp1",
        "outputId": "d650cca2-1e60-4cbe-9b8a-cb13d22f9c24"
      },
      "source": [
        "x.shape , y.shape"
      ],
      "execution_count": null,
      "outputs": [
        {
          "output_type": "execute_result",
          "data": {
            "text/plain": [
              "((3189, 13), (3189, 1))"
            ]
          },
          "metadata": {
            "tags": []
          },
          "execution_count": 14
        }
      ]
    },
    {
      "cell_type": "code",
      "metadata": {
        "id": "2pKFjJu7a2eu"
      },
      "source": [
        "from tensorflow.keras import Sequential\n",
        "from tensorflow.keras import layers"
      ],
      "execution_count": null,
      "outputs": []
    },
    {
      "cell_type": "code",
      "metadata": {
        "id": "G3x8ARuPa8MK"
      },
      "source": [
        "# multiple linear regression\n",
        "def multi_regression():\n",
        "  model = Sequential([\n",
        "                      layers.Dense(units=1,input_shape=(13,))\n",
        "  ])\n",
        "  # \n",
        "  loss = tf.keras.losses.mean_squared_error\n",
        "  optimizer = tf.keras.optimizers.Adam(learning_rate=0.001)\n",
        "  # complie\n",
        "  model.compile(loss=loss,optimizer=optimizer,metrics=['mse'])\n",
        "  return model"
      ],
      "execution_count": null,
      "outputs": []
    },
    {
      "cell_type": "code",
      "metadata": {
        "colab": {
          "base_uri": "https://localhost:8080/"
        },
        "id": "EEIMdwRtcuGe",
        "outputId": "53c80b84-6f12-4175-db99-b21d90fb259b"
      },
      "source": [
        "model = multi_regression()\n",
        "model.summary()"
      ],
      "execution_count": null,
      "outputs": [
        {
          "output_type": "stream",
          "text": [
            "Model: \"sequential_1\"\n",
            "_________________________________________________________________\n",
            "Layer (type)                 Output Shape              Param #   \n",
            "=================================================================\n",
            "dense_1 (Dense)              (None, 1)                 14        \n",
            "=================================================================\n",
            "Total params: 14\n",
            "Trainable params: 14\n",
            "Non-trainable params: 0\n",
            "_________________________________________________________________\n"
          ],
          "name": "stdout"
        }
      ]
    },
    {
      "cell_type": "code",
      "metadata": {
        "id": "aDVxKqnvc2bS"
      },
      "source": [
        "from sklearn.model_selection import train_test_split\n",
        "x_train,x_test,y_train,y_test = train_test_split(x,y,test_size=0.2)"
      ],
      "execution_count": null,
      "outputs": []
    },
    {
      "cell_type": "code",
      "metadata": {
        "colab": {
          "base_uri": "https://localhost:8080/"
        },
        "id": "1bjbnf64dMM7",
        "outputId": "708037af-4c26-4e77-d5fc-7a816633105f"
      },
      "source": [
        "x_train.shape,x_test.shape,y_train.shape,y_test.shape"
      ],
      "execution_count": null,
      "outputs": [
        {
          "output_type": "execute_result",
          "data": {
            "text/plain": [
              "((2551, 13), (638, 13), (2551, 1), (638, 1))"
            ]
          },
          "metadata": {
            "tags": []
          },
          "execution_count": 37
        }
      ]
    },
    {
      "cell_type": "code",
      "metadata": {
        "colab": {
          "base_uri": "https://localhost:8080/"
        },
        "id": "8iLOvWI6dqIl",
        "outputId": "508d080f-ff28-4768-a09b-f1a042d318b0"
      },
      "source": [
        "#train\n",
        "history = model.fit(x_train,y_train,batch_size=100,epochs=200,validation_data=(x_test,y_test))"
      ],
      "execution_count": null,
      "outputs": [
        {
          "output_type": "stream",
          "text": [
            "Epoch 1/200\n",
            "26/26 [==============================] - 0s 7ms/step - loss: 2.3612 - mse: 2.3612 - val_loss: 2.2945 - val_mse: 2.2945\n",
            "Epoch 2/200\n",
            "26/26 [==============================] - 0s 2ms/step - loss: 2.0613 - mse: 2.0613 - val_loss: 1.9884 - val_mse: 1.9884\n",
            "Epoch 3/200\n",
            "26/26 [==============================] - 0s 2ms/step - loss: 1.8020 - mse: 1.8020 - val_loss: 1.7334 - val_mse: 1.7334\n",
            "Epoch 4/200\n",
            "26/26 [==============================] - 0s 3ms/step - loss: 1.5831 - mse: 1.5831 - val_loss: 1.5184 - val_mse: 1.5184\n",
            "Epoch 5/200\n",
            "26/26 [==============================] - 0s 3ms/step - loss: 1.3964 - mse: 1.3964 - val_loss: 1.3380 - val_mse: 1.3380\n",
            "Epoch 6/200\n",
            "26/26 [==============================] - 0s 3ms/step - loss: 1.2388 - mse: 1.2388 - val_loss: 1.1880 - val_mse: 1.1880\n",
            "Epoch 7/200\n",
            "26/26 [==============================] - 0s 3ms/step - loss: 1.1052 - mse: 1.1052 - val_loss: 1.0633 - val_mse: 1.0633\n",
            "Epoch 8/200\n",
            "26/26 [==============================] - 0s 3ms/step - loss: 0.9941 - mse: 0.9941 - val_loss: 0.9576 - val_mse: 0.9576\n",
            "Epoch 9/200\n",
            "26/26 [==============================] - 0s 3ms/step - loss: 0.9010 - mse: 0.9010 - val_loss: 0.8702 - val_mse: 0.8702\n",
            "Epoch 10/200\n",
            "26/26 [==============================] - 0s 3ms/step - loss: 0.8229 - mse: 0.8229 - val_loss: 0.7992 - val_mse: 0.7992\n",
            "Epoch 11/200\n",
            "26/26 [==============================] - 0s 3ms/step - loss: 0.7601 - mse: 0.7601 - val_loss: 0.7398 - val_mse: 0.7398\n",
            "Epoch 12/200\n",
            "26/26 [==============================] - 0s 3ms/step - loss: 0.7077 - mse: 0.7077 - val_loss: 0.6921 - val_mse: 0.6921\n",
            "Epoch 13/200\n",
            "26/26 [==============================] - 0s 3ms/step - loss: 0.6640 - mse: 0.6640 - val_loss: 0.6529 - val_mse: 0.6529\n",
            "Epoch 14/200\n",
            "26/26 [==============================] - 0s 3ms/step - loss: 0.6286 - mse: 0.6286 - val_loss: 0.6186 - val_mse: 0.6186\n",
            "Epoch 15/200\n",
            "26/26 [==============================] - 0s 3ms/step - loss: 0.5991 - mse: 0.5991 - val_loss: 0.5923 - val_mse: 0.5923\n",
            "Epoch 16/200\n",
            "26/26 [==============================] - 0s 3ms/step - loss: 0.5744 - mse: 0.5744 - val_loss: 0.5700 - val_mse: 0.5700\n",
            "Epoch 17/200\n",
            "26/26 [==============================] - 0s 3ms/step - loss: 0.5546 - mse: 0.5546 - val_loss: 0.5509 - val_mse: 0.5509\n",
            "Epoch 18/200\n",
            "26/26 [==============================] - 0s 2ms/step - loss: 0.5372 - mse: 0.5372 - val_loss: 0.5357 - val_mse: 0.5357\n",
            "Epoch 19/200\n",
            "26/26 [==============================] - 0s 3ms/step - loss: 0.5228 - mse: 0.5228 - val_loss: 0.5234 - val_mse: 0.5234\n",
            "Epoch 20/200\n",
            "26/26 [==============================] - 0s 2ms/step - loss: 0.5102 - mse: 0.5102 - val_loss: 0.5104 - val_mse: 0.5104\n",
            "Epoch 21/200\n",
            "26/26 [==============================] - 0s 2ms/step - loss: 0.4990 - mse: 0.4990 - val_loss: 0.4999 - val_mse: 0.4999\n",
            "Epoch 22/200\n",
            "26/26 [==============================] - 0s 2ms/step - loss: 0.4893 - mse: 0.4893 - val_loss: 0.4916 - val_mse: 0.4916\n",
            "Epoch 23/200\n",
            "26/26 [==============================] - 0s 2ms/step - loss: 0.4809 - mse: 0.4809 - val_loss: 0.4828 - val_mse: 0.4828\n",
            "Epoch 24/200\n",
            "26/26 [==============================] - 0s 3ms/step - loss: 0.4727 - mse: 0.4727 - val_loss: 0.4759 - val_mse: 0.4759\n",
            "Epoch 25/200\n",
            "26/26 [==============================] - 0s 2ms/step - loss: 0.4656 - mse: 0.4656 - val_loss: 0.4678 - val_mse: 0.4678\n",
            "Epoch 26/200\n",
            "26/26 [==============================] - 0s 3ms/step - loss: 0.4588 - mse: 0.4588 - val_loss: 0.4622 - val_mse: 0.4622\n",
            "Epoch 27/200\n",
            "26/26 [==============================] - 0s 3ms/step - loss: 0.4526 - mse: 0.4526 - val_loss: 0.4559 - val_mse: 0.4559\n",
            "Epoch 28/200\n",
            "26/26 [==============================] - 0s 2ms/step - loss: 0.4467 - mse: 0.4467 - val_loss: 0.4507 - val_mse: 0.4507\n",
            "Epoch 29/200\n",
            "26/26 [==============================] - 0s 3ms/step - loss: 0.4416 - mse: 0.4416 - val_loss: 0.4452 - val_mse: 0.4452\n",
            "Epoch 30/200\n",
            "26/26 [==============================] - 0s 3ms/step - loss: 0.4362 - mse: 0.4362 - val_loss: 0.4414 - val_mse: 0.4414\n",
            "Epoch 31/200\n",
            "26/26 [==============================] - 0s 3ms/step - loss: 0.4314 - mse: 0.4314 - val_loss: 0.4359 - val_mse: 0.4359\n",
            "Epoch 32/200\n",
            "26/26 [==============================] - 0s 3ms/step - loss: 0.4266 - mse: 0.4266 - val_loss: 0.4319 - val_mse: 0.4319\n",
            "Epoch 33/200\n",
            "26/26 [==============================] - 0s 3ms/step - loss: 0.4219 - mse: 0.4219 - val_loss: 0.4274 - val_mse: 0.4274\n",
            "Epoch 34/200\n",
            "26/26 [==============================] - 0s 2ms/step - loss: 0.4176 - mse: 0.4176 - val_loss: 0.4237 - val_mse: 0.4237\n",
            "Epoch 35/200\n",
            "26/26 [==============================] - 0s 3ms/step - loss: 0.4133 - mse: 0.4133 - val_loss: 0.4191 - val_mse: 0.4191\n",
            "Epoch 36/200\n",
            "26/26 [==============================] - 0s 2ms/step - loss: 0.4091 - mse: 0.4091 - val_loss: 0.4152 - val_mse: 0.4152\n",
            "Epoch 37/200\n",
            "26/26 [==============================] - 0s 3ms/step - loss: 0.4054 - mse: 0.4054 - val_loss: 0.4112 - val_mse: 0.4112\n",
            "Epoch 38/200\n",
            "26/26 [==============================] - 0s 2ms/step - loss: 0.4013 - mse: 0.4013 - val_loss: 0.4084 - val_mse: 0.4084\n",
            "Epoch 39/200\n",
            "26/26 [==============================] - 0s 3ms/step - loss: 0.3977 - mse: 0.3977 - val_loss: 0.4048 - val_mse: 0.4048\n",
            "Epoch 40/200\n",
            "26/26 [==============================] - 0s 3ms/step - loss: 0.3941 - mse: 0.3941 - val_loss: 0.4017 - val_mse: 0.4017\n",
            "Epoch 41/200\n",
            "26/26 [==============================] - 0s 2ms/step - loss: 0.3906 - mse: 0.3906 - val_loss: 0.3982 - val_mse: 0.3982\n",
            "Epoch 42/200\n",
            "26/26 [==============================] - 0s 3ms/step - loss: 0.3875 - mse: 0.3875 - val_loss: 0.3957 - val_mse: 0.3957\n",
            "Epoch 43/200\n",
            "26/26 [==============================] - 0s 3ms/step - loss: 0.3842 - mse: 0.3842 - val_loss: 0.3919 - val_mse: 0.3919\n",
            "Epoch 44/200\n",
            "26/26 [==============================] - 0s 3ms/step - loss: 0.3808 - mse: 0.3808 - val_loss: 0.3882 - val_mse: 0.3882\n",
            "Epoch 45/200\n",
            "26/26 [==============================] - 0s 3ms/step - loss: 0.3780 - mse: 0.3780 - val_loss: 0.3865 - val_mse: 0.3865\n",
            "Epoch 46/200\n",
            "26/26 [==============================] - 0s 3ms/step - loss: 0.3747 - mse: 0.3747 - val_loss: 0.3839 - val_mse: 0.3839\n",
            "Epoch 47/200\n",
            "26/26 [==============================] - 0s 3ms/step - loss: 0.3719 - mse: 0.3719 - val_loss: 0.3814 - val_mse: 0.3814\n",
            "Epoch 48/200\n",
            "26/26 [==============================] - 0s 3ms/step - loss: 0.3692 - mse: 0.3692 - val_loss: 0.3788 - val_mse: 0.3788\n",
            "Epoch 49/200\n",
            "26/26 [==============================] - 0s 3ms/step - loss: 0.3667 - mse: 0.3667 - val_loss: 0.3757 - val_mse: 0.3757\n",
            "Epoch 50/200\n",
            "26/26 [==============================] - 0s 3ms/step - loss: 0.3639 - mse: 0.3639 - val_loss: 0.3737 - val_mse: 0.3737\n",
            "Epoch 51/200\n",
            "26/26 [==============================] - 0s 2ms/step - loss: 0.3612 - mse: 0.3612 - val_loss: 0.3717 - val_mse: 0.3717\n",
            "Epoch 52/200\n",
            "26/26 [==============================] - 0s 3ms/step - loss: 0.3589 - mse: 0.3589 - val_loss: 0.3698 - val_mse: 0.3698\n",
            "Epoch 53/200\n",
            "26/26 [==============================] - 0s 2ms/step - loss: 0.3565 - mse: 0.3565 - val_loss: 0.3675 - val_mse: 0.3675\n",
            "Epoch 54/200\n",
            "26/26 [==============================] - 0s 2ms/step - loss: 0.3542 - mse: 0.3542 - val_loss: 0.3650 - val_mse: 0.3650\n",
            "Epoch 55/200\n",
            "26/26 [==============================] - 0s 3ms/step - loss: 0.3519 - mse: 0.3519 - val_loss: 0.3630 - val_mse: 0.3630\n",
            "Epoch 56/200\n",
            "26/26 [==============================] - 0s 3ms/step - loss: 0.3499 - mse: 0.3499 - val_loss: 0.3617 - val_mse: 0.3617\n",
            "Epoch 57/200\n",
            "26/26 [==============================] - 0s 3ms/step - loss: 0.3477 - mse: 0.3477 - val_loss: 0.3592 - val_mse: 0.3592\n",
            "Epoch 58/200\n",
            "26/26 [==============================] - 0s 3ms/step - loss: 0.3457 - mse: 0.3457 - val_loss: 0.3576 - val_mse: 0.3576\n",
            "Epoch 59/200\n",
            "26/26 [==============================] - 0s 3ms/step - loss: 0.3437 - mse: 0.3437 - val_loss: 0.3562 - val_mse: 0.3562\n",
            "Epoch 60/200\n",
            "26/26 [==============================] - 0s 3ms/step - loss: 0.3419 - mse: 0.3419 - val_loss: 0.3540 - val_mse: 0.3540\n",
            "Epoch 61/200\n",
            "26/26 [==============================] - 0s 3ms/step - loss: 0.3401 - mse: 0.3401 - val_loss: 0.3526 - val_mse: 0.3526\n",
            "Epoch 62/200\n",
            "26/26 [==============================] - 0s 3ms/step - loss: 0.3382 - mse: 0.3382 - val_loss: 0.3512 - val_mse: 0.3512\n",
            "Epoch 63/200\n",
            "26/26 [==============================] - 0s 3ms/step - loss: 0.3366 - mse: 0.3366 - val_loss: 0.3491 - val_mse: 0.3491\n",
            "Epoch 64/200\n",
            "26/26 [==============================] - 0s 2ms/step - loss: 0.3349 - mse: 0.3349 - val_loss: 0.3483 - val_mse: 0.3483\n",
            "Epoch 65/200\n",
            "26/26 [==============================] - 0s 3ms/step - loss: 0.3333 - mse: 0.3333 - val_loss: 0.3469 - val_mse: 0.3469\n",
            "Epoch 66/200\n",
            "26/26 [==============================] - 0s 2ms/step - loss: 0.3318 - mse: 0.3318 - val_loss: 0.3453 - val_mse: 0.3453\n",
            "Epoch 67/200\n",
            "26/26 [==============================] - 0s 4ms/step - loss: 0.3302 - mse: 0.3302 - val_loss: 0.3442 - val_mse: 0.3442\n",
            "Epoch 68/200\n",
            "26/26 [==============================] - 0s 3ms/step - loss: 0.3290 - mse: 0.3290 - val_loss: 0.3434 - val_mse: 0.3434\n",
            "Epoch 69/200\n",
            "26/26 [==============================] - 0s 3ms/step - loss: 0.3273 - mse: 0.3273 - val_loss: 0.3414 - val_mse: 0.3414\n",
            "Epoch 70/200\n",
            "26/26 [==============================] - 0s 2ms/step - loss: 0.3259 - mse: 0.3259 - val_loss: 0.3408 - val_mse: 0.3408\n",
            "Epoch 71/200\n",
            "26/26 [==============================] - 0s 3ms/step - loss: 0.3246 - mse: 0.3246 - val_loss: 0.3388 - val_mse: 0.3388\n",
            "Epoch 72/200\n",
            "26/26 [==============================] - 0s 3ms/step - loss: 0.3232 - mse: 0.3232 - val_loss: 0.3383 - val_mse: 0.3383\n",
            "Epoch 73/200\n",
            "26/26 [==============================] - 0s 3ms/step - loss: 0.3220 - mse: 0.3220 - val_loss: 0.3372 - val_mse: 0.3372\n",
            "Epoch 74/200\n",
            "26/26 [==============================] - 0s 2ms/step - loss: 0.3208 - mse: 0.3208 - val_loss: 0.3356 - val_mse: 0.3356\n",
            "Epoch 75/200\n",
            "26/26 [==============================] - 0s 3ms/step - loss: 0.3196 - mse: 0.3196 - val_loss: 0.3349 - val_mse: 0.3349\n",
            "Epoch 76/200\n",
            "26/26 [==============================] - 0s 3ms/step - loss: 0.3186 - mse: 0.3186 - val_loss: 0.3343 - val_mse: 0.3343\n",
            "Epoch 77/200\n",
            "26/26 [==============================] - 0s 2ms/step - loss: 0.3174 - mse: 0.3174 - val_loss: 0.3335 - val_mse: 0.3335\n",
            "Epoch 78/200\n",
            "26/26 [==============================] - 0s 3ms/step - loss: 0.3163 - mse: 0.3163 - val_loss: 0.3326 - val_mse: 0.3326\n",
            "Epoch 79/200\n",
            "26/26 [==============================] - 0s 3ms/step - loss: 0.3155 - mse: 0.3155 - val_loss: 0.3313 - val_mse: 0.3313\n",
            "Epoch 80/200\n",
            "26/26 [==============================] - 0s 3ms/step - loss: 0.3144 - mse: 0.3144 - val_loss: 0.3310 - val_mse: 0.3310\n",
            "Epoch 81/200\n",
            "26/26 [==============================] - 0s 3ms/step - loss: 0.3134 - mse: 0.3134 - val_loss: 0.3300 - val_mse: 0.3300\n",
            "Epoch 82/200\n",
            "26/26 [==============================] - 0s 3ms/step - loss: 0.3125 - mse: 0.3125 - val_loss: 0.3287 - val_mse: 0.3287\n",
            "Epoch 83/200\n",
            "26/26 [==============================] - 0s 3ms/step - loss: 0.3115 - mse: 0.3115 - val_loss: 0.3282 - val_mse: 0.3282\n",
            "Epoch 84/200\n",
            "26/26 [==============================] - 0s 3ms/step - loss: 0.3108 - mse: 0.3108 - val_loss: 0.3274 - val_mse: 0.3274\n",
            "Epoch 85/200\n",
            "26/26 [==============================] - 0s 3ms/step - loss: 0.3098 - mse: 0.3098 - val_loss: 0.3267 - val_mse: 0.3267\n",
            "Epoch 86/200\n",
            "26/26 [==============================] - 0s 3ms/step - loss: 0.3091 - mse: 0.3091 - val_loss: 0.3258 - val_mse: 0.3258\n",
            "Epoch 87/200\n",
            "26/26 [==============================] - 0s 3ms/step - loss: 0.3083 - mse: 0.3083 - val_loss: 0.3257 - val_mse: 0.3257\n",
            "Epoch 88/200\n",
            "26/26 [==============================] - 0s 3ms/step - loss: 0.3075 - mse: 0.3075 - val_loss: 0.3251 - val_mse: 0.3251\n",
            "Epoch 89/200\n",
            "26/26 [==============================] - 0s 3ms/step - loss: 0.3067 - mse: 0.3067 - val_loss: 0.3242 - val_mse: 0.3242\n",
            "Epoch 90/200\n",
            "26/26 [==============================] - 0s 3ms/step - loss: 0.3059 - mse: 0.3059 - val_loss: 0.3236 - val_mse: 0.3236\n",
            "Epoch 91/200\n",
            "26/26 [==============================] - 0s 2ms/step - loss: 0.3052 - mse: 0.3052 - val_loss: 0.3236 - val_mse: 0.3236\n",
            "Epoch 92/200\n",
            "26/26 [==============================] - 0s 3ms/step - loss: 0.3049 - mse: 0.3049 - val_loss: 0.3226 - val_mse: 0.3226\n",
            "Epoch 93/200\n",
            "26/26 [==============================] - 0s 3ms/step - loss: 0.3038 - mse: 0.3038 - val_loss: 0.3224 - val_mse: 0.3224\n",
            "Epoch 94/200\n",
            "26/26 [==============================] - 0s 3ms/step - loss: 0.3034 - mse: 0.3034 - val_loss: 0.3222 - val_mse: 0.3222\n",
            "Epoch 95/200\n",
            "26/26 [==============================] - 0s 3ms/step - loss: 0.3026 - mse: 0.3026 - val_loss: 0.3216 - val_mse: 0.3216\n",
            "Epoch 96/200\n",
            "26/26 [==============================] - 0s 3ms/step - loss: 0.3019 - mse: 0.3019 - val_loss: 0.3204 - val_mse: 0.3204\n",
            "Epoch 97/200\n",
            "26/26 [==============================] - 0s 2ms/step - loss: 0.3020 - mse: 0.3020 - val_loss: 0.3198 - val_mse: 0.3198\n",
            "Epoch 98/200\n",
            "26/26 [==============================] - 0s 3ms/step - loss: 0.3009 - mse: 0.3009 - val_loss: 0.3194 - val_mse: 0.3194\n",
            "Epoch 99/200\n",
            "26/26 [==============================] - 0s 2ms/step - loss: 0.3004 - mse: 0.3004 - val_loss: 0.3191 - val_mse: 0.3191\n",
            "Epoch 100/200\n",
            "26/26 [==============================] - 0s 3ms/step - loss: 0.2998 - mse: 0.2998 - val_loss: 0.3188 - val_mse: 0.3188\n",
            "Epoch 101/200\n",
            "26/26 [==============================] - 0s 2ms/step - loss: 0.2993 - mse: 0.2993 - val_loss: 0.3180 - val_mse: 0.3180\n",
            "Epoch 102/200\n",
            "26/26 [==============================] - 0s 3ms/step - loss: 0.2987 - mse: 0.2987 - val_loss: 0.3178 - val_mse: 0.3178\n",
            "Epoch 103/200\n",
            "26/26 [==============================] - 0s 3ms/step - loss: 0.2983 - mse: 0.2983 - val_loss: 0.3185 - val_mse: 0.3185\n",
            "Epoch 104/200\n",
            "26/26 [==============================] - 0s 3ms/step - loss: 0.2976 - mse: 0.2976 - val_loss: 0.3173 - val_mse: 0.3173\n",
            "Epoch 105/200\n",
            "26/26 [==============================] - 0s 3ms/step - loss: 0.2973 - mse: 0.2973 - val_loss: 0.3168 - val_mse: 0.3168\n",
            "Epoch 106/200\n",
            "26/26 [==============================] - 0s 3ms/step - loss: 0.2968 - mse: 0.2968 - val_loss: 0.3160 - val_mse: 0.3160\n",
            "Epoch 107/200\n",
            "26/26 [==============================] - 0s 3ms/step - loss: 0.2964 - mse: 0.2964 - val_loss: 0.3157 - val_mse: 0.3157\n",
            "Epoch 108/200\n",
            "26/26 [==============================] - 0s 2ms/step - loss: 0.2961 - mse: 0.2961 - val_loss: 0.3162 - val_mse: 0.3162\n",
            "Epoch 109/200\n",
            "26/26 [==============================] - 0s 3ms/step - loss: 0.2954 - mse: 0.2954 - val_loss: 0.3156 - val_mse: 0.3156\n",
            "Epoch 110/200\n",
            "26/26 [==============================] - 0s 3ms/step - loss: 0.2952 - mse: 0.2952 - val_loss: 0.3148 - val_mse: 0.3148\n",
            "Epoch 111/200\n",
            "26/26 [==============================] - 0s 3ms/step - loss: 0.2949 - mse: 0.2949 - val_loss: 0.3152 - val_mse: 0.3152\n",
            "Epoch 112/200\n",
            "26/26 [==============================] - 0s 3ms/step - loss: 0.2943 - mse: 0.2943 - val_loss: 0.3144 - val_mse: 0.3144\n",
            "Epoch 113/200\n",
            "26/26 [==============================] - 0s 3ms/step - loss: 0.2939 - mse: 0.2939 - val_loss: 0.3140 - val_mse: 0.3140\n",
            "Epoch 114/200\n",
            "26/26 [==============================] - 0s 3ms/step - loss: 0.2937 - mse: 0.2937 - val_loss: 0.3138 - val_mse: 0.3138\n",
            "Epoch 115/200\n",
            "26/26 [==============================] - 0s 3ms/step - loss: 0.2933 - mse: 0.2933 - val_loss: 0.3141 - val_mse: 0.3141\n",
            "Epoch 116/200\n",
            "26/26 [==============================] - 0s 3ms/step - loss: 0.2929 - mse: 0.2929 - val_loss: 0.3132 - val_mse: 0.3132\n",
            "Epoch 117/200\n",
            "26/26 [==============================] - 0s 3ms/step - loss: 0.2926 - mse: 0.2926 - val_loss: 0.3136 - val_mse: 0.3136\n",
            "Epoch 118/200\n",
            "26/26 [==============================] - 0s 3ms/step - loss: 0.2919 - mse: 0.2919 - val_loss: 0.3125 - val_mse: 0.3125\n",
            "Epoch 119/200\n",
            "26/26 [==============================] - 0s 3ms/step - loss: 0.2918 - mse: 0.2918 - val_loss: 0.3123 - val_mse: 0.3123\n",
            "Epoch 120/200\n",
            "26/26 [==============================] - 0s 3ms/step - loss: 0.2914 - mse: 0.2914 - val_loss: 0.3123 - val_mse: 0.3123\n",
            "Epoch 121/200\n",
            "26/26 [==============================] - 0s 3ms/step - loss: 0.2914 - mse: 0.2914 - val_loss: 0.3118 - val_mse: 0.3118\n",
            "Epoch 122/200\n",
            "26/26 [==============================] - 0s 3ms/step - loss: 0.2908 - mse: 0.2908 - val_loss: 0.3121 - val_mse: 0.3121\n",
            "Epoch 123/200\n",
            "26/26 [==============================] - 0s 3ms/step - loss: 0.2905 - mse: 0.2905 - val_loss: 0.3113 - val_mse: 0.3113\n",
            "Epoch 124/200\n",
            "26/26 [==============================] - 0s 3ms/step - loss: 0.2901 - mse: 0.2901 - val_loss: 0.3115 - val_mse: 0.3115\n",
            "Epoch 125/200\n",
            "26/26 [==============================] - 0s 3ms/step - loss: 0.2900 - mse: 0.2900 - val_loss: 0.3116 - val_mse: 0.3116\n",
            "Epoch 126/200\n",
            "26/26 [==============================] - 0s 3ms/step - loss: 0.2895 - mse: 0.2895 - val_loss: 0.3109 - val_mse: 0.3109\n",
            "Epoch 127/200\n",
            "26/26 [==============================] - 0s 3ms/step - loss: 0.2893 - mse: 0.2893 - val_loss: 0.3102 - val_mse: 0.3102\n",
            "Epoch 128/200\n",
            "26/26 [==============================] - 0s 3ms/step - loss: 0.2893 - mse: 0.2893 - val_loss: 0.3110 - val_mse: 0.3110\n",
            "Epoch 129/200\n",
            "26/26 [==============================] - 0s 2ms/step - loss: 0.2888 - mse: 0.2888 - val_loss: 0.3104 - val_mse: 0.3104\n",
            "Epoch 130/200\n",
            "26/26 [==============================] - 0s 2ms/step - loss: 0.2886 - mse: 0.2886 - val_loss: 0.3108 - val_mse: 0.3108\n",
            "Epoch 131/200\n",
            "26/26 [==============================] - 0s 3ms/step - loss: 0.2882 - mse: 0.2882 - val_loss: 0.3099 - val_mse: 0.3099\n",
            "Epoch 132/200\n",
            "26/26 [==============================] - 0s 3ms/step - loss: 0.2881 - mse: 0.2881 - val_loss: 0.3098 - val_mse: 0.3098\n",
            "Epoch 133/200\n",
            "26/26 [==============================] - 0s 4ms/step - loss: 0.2877 - mse: 0.2877 - val_loss: 0.3096 - val_mse: 0.3096\n",
            "Epoch 134/200\n",
            "26/26 [==============================] - 0s 3ms/step - loss: 0.2874 - mse: 0.2874 - val_loss: 0.3097 - val_mse: 0.3097\n",
            "Epoch 135/200\n",
            "26/26 [==============================] - 0s 3ms/step - loss: 0.2872 - mse: 0.2872 - val_loss: 0.3096 - val_mse: 0.3096\n",
            "Epoch 136/200\n",
            "26/26 [==============================] - 0s 3ms/step - loss: 0.2871 - mse: 0.2871 - val_loss: 0.3087 - val_mse: 0.3087\n",
            "Epoch 137/200\n",
            "26/26 [==============================] - 0s 4ms/step - loss: 0.2868 - mse: 0.2868 - val_loss: 0.3094 - val_mse: 0.3094\n",
            "Epoch 138/200\n",
            "26/26 [==============================] - 0s 3ms/step - loss: 0.2864 - mse: 0.2864 - val_loss: 0.3090 - val_mse: 0.3090\n",
            "Epoch 139/200\n",
            "26/26 [==============================] - 0s 3ms/step - loss: 0.2863 - mse: 0.2863 - val_loss: 0.3086 - val_mse: 0.3086\n",
            "Epoch 140/200\n",
            "26/26 [==============================] - 0s 3ms/step - loss: 0.2859 - mse: 0.2859 - val_loss: 0.3084 - val_mse: 0.3084\n",
            "Epoch 141/200\n",
            "26/26 [==============================] - 0s 3ms/step - loss: 0.2861 - mse: 0.2861 - val_loss: 0.3086 - val_mse: 0.3086\n",
            "Epoch 142/200\n",
            "26/26 [==============================] - 0s 3ms/step - loss: 0.2857 - mse: 0.2857 - val_loss: 0.3082 - val_mse: 0.3082\n",
            "Epoch 143/200\n",
            "26/26 [==============================] - 0s 2ms/step - loss: 0.2855 - mse: 0.2855 - val_loss: 0.3079 - val_mse: 0.3079\n",
            "Epoch 144/200\n",
            "26/26 [==============================] - 0s 2ms/step - loss: 0.2853 - mse: 0.2853 - val_loss: 0.3080 - val_mse: 0.3080\n",
            "Epoch 145/200\n",
            "26/26 [==============================] - 0s 3ms/step - loss: 0.2849 - mse: 0.2849 - val_loss: 0.3079 - val_mse: 0.3079\n",
            "Epoch 146/200\n",
            "26/26 [==============================] - 0s 3ms/step - loss: 0.2850 - mse: 0.2850 - val_loss: 0.3073 - val_mse: 0.3073\n",
            "Epoch 147/200\n",
            "26/26 [==============================] - 0s 3ms/step - loss: 0.2847 - mse: 0.2847 - val_loss: 0.3072 - val_mse: 0.3072\n",
            "Epoch 148/200\n",
            "26/26 [==============================] - 0s 4ms/step - loss: 0.2844 - mse: 0.2844 - val_loss: 0.3075 - val_mse: 0.3075\n",
            "Epoch 149/200\n",
            "26/26 [==============================] - 0s 3ms/step - loss: 0.2844 - mse: 0.2844 - val_loss: 0.3078 - val_mse: 0.3078\n",
            "Epoch 150/200\n",
            "26/26 [==============================] - 0s 3ms/step - loss: 0.2843 - mse: 0.2843 - val_loss: 0.3068 - val_mse: 0.3068\n",
            "Epoch 151/200\n",
            "26/26 [==============================] - 0s 3ms/step - loss: 0.2839 - mse: 0.2839 - val_loss: 0.3068 - val_mse: 0.3068\n",
            "Epoch 152/200\n",
            "26/26 [==============================] - 0s 3ms/step - loss: 0.2841 - mse: 0.2841 - val_loss: 0.3064 - val_mse: 0.3064\n",
            "Epoch 153/200\n",
            "26/26 [==============================] - 0s 2ms/step - loss: 0.2836 - mse: 0.2836 - val_loss: 0.3071 - val_mse: 0.3071\n",
            "Epoch 154/200\n",
            "26/26 [==============================] - 0s 3ms/step - loss: 0.2834 - mse: 0.2834 - val_loss: 0.3068 - val_mse: 0.3068\n",
            "Epoch 155/200\n",
            "26/26 [==============================] - 0s 3ms/step - loss: 0.2833 - mse: 0.2833 - val_loss: 0.3060 - val_mse: 0.3060\n",
            "Epoch 156/200\n",
            "26/26 [==============================] - 0s 2ms/step - loss: 0.2831 - mse: 0.2831 - val_loss: 0.3066 - val_mse: 0.3066\n",
            "Epoch 157/200\n",
            "26/26 [==============================] - 0s 3ms/step - loss: 0.2829 - mse: 0.2829 - val_loss: 0.3065 - val_mse: 0.3065\n",
            "Epoch 158/200\n",
            "26/26 [==============================] - 0s 3ms/step - loss: 0.2826 - mse: 0.2826 - val_loss: 0.3059 - val_mse: 0.3059\n",
            "Epoch 159/200\n",
            "26/26 [==============================] - 0s 2ms/step - loss: 0.2826 - mse: 0.2826 - val_loss: 0.3054 - val_mse: 0.3054\n",
            "Epoch 160/200\n",
            "26/26 [==============================] - 0s 3ms/step - loss: 0.2826 - mse: 0.2826 - val_loss: 0.3052 - val_mse: 0.3052\n",
            "Epoch 161/200\n",
            "26/26 [==============================] - 0s 3ms/step - loss: 0.2825 - mse: 0.2825 - val_loss: 0.3061 - val_mse: 0.3061\n",
            "Epoch 162/200\n",
            "26/26 [==============================] - 0s 2ms/step - loss: 0.2822 - mse: 0.2822 - val_loss: 0.3051 - val_mse: 0.3051\n",
            "Epoch 163/200\n",
            "26/26 [==============================] - 0s 3ms/step - loss: 0.2819 - mse: 0.2819 - val_loss: 0.3053 - val_mse: 0.3053\n",
            "Epoch 164/200\n",
            "26/26 [==============================] - 0s 3ms/step - loss: 0.2821 - mse: 0.2821 - val_loss: 0.3055 - val_mse: 0.3055\n",
            "Epoch 165/200\n",
            "26/26 [==============================] - 0s 3ms/step - loss: 0.2815 - mse: 0.2815 - val_loss: 0.3049 - val_mse: 0.3049\n",
            "Epoch 166/200\n",
            "26/26 [==============================] - 0s 3ms/step - loss: 0.2817 - mse: 0.2817 - val_loss: 0.3052 - val_mse: 0.3052\n",
            "Epoch 167/200\n",
            "26/26 [==============================] - 0s 3ms/step - loss: 0.2814 - mse: 0.2814 - val_loss: 0.3048 - val_mse: 0.3048\n",
            "Epoch 168/200\n",
            "26/26 [==============================] - 0s 3ms/step - loss: 0.2812 - mse: 0.2812 - val_loss: 0.3051 - val_mse: 0.3051\n",
            "Epoch 169/200\n",
            "26/26 [==============================] - 0s 3ms/step - loss: 0.2813 - mse: 0.2813 - val_loss: 0.3054 - val_mse: 0.3054\n",
            "Epoch 170/200\n",
            "26/26 [==============================] - 0s 3ms/step - loss: 0.2809 - mse: 0.2809 - val_loss: 0.3046 - val_mse: 0.3046\n",
            "Epoch 171/200\n",
            "26/26 [==============================] - 0s 3ms/step - loss: 0.2808 - mse: 0.2808 - val_loss: 0.3041 - val_mse: 0.3041\n",
            "Epoch 172/200\n",
            "26/26 [==============================] - 0s 3ms/step - loss: 0.2807 - mse: 0.2807 - val_loss: 0.3043 - val_mse: 0.3043\n",
            "Epoch 173/200\n",
            "26/26 [==============================] - 0s 3ms/step - loss: 0.2807 - mse: 0.2807 - val_loss: 0.3041 - val_mse: 0.3041\n",
            "Epoch 174/200\n",
            "26/26 [==============================] - 0s 4ms/step - loss: 0.2806 - mse: 0.2806 - val_loss: 0.3045 - val_mse: 0.3045\n",
            "Epoch 175/200\n",
            "26/26 [==============================] - 0s 3ms/step - loss: 0.2803 - mse: 0.2803 - val_loss: 0.3045 - val_mse: 0.3045\n",
            "Epoch 176/200\n",
            "26/26 [==============================] - 0s 3ms/step - loss: 0.2803 - mse: 0.2803 - val_loss: 0.3044 - val_mse: 0.3044\n",
            "Epoch 177/200\n",
            "26/26 [==============================] - 0s 3ms/step - loss: 0.2803 - mse: 0.2803 - val_loss: 0.3034 - val_mse: 0.3034\n",
            "Epoch 178/200\n",
            "26/26 [==============================] - 0s 3ms/step - loss: 0.2804 - mse: 0.2804 - val_loss: 0.3038 - val_mse: 0.3038\n",
            "Epoch 179/200\n",
            "26/26 [==============================] - 0s 2ms/step - loss: 0.2800 - mse: 0.2800 - val_loss: 0.3036 - val_mse: 0.3036\n",
            "Epoch 180/200\n",
            "26/26 [==============================] - 0s 3ms/step - loss: 0.2800 - mse: 0.2800 - val_loss: 0.3042 - val_mse: 0.3042\n",
            "Epoch 181/200\n",
            "26/26 [==============================] - 0s 3ms/step - loss: 0.2799 - mse: 0.2799 - val_loss: 0.3030 - val_mse: 0.3030\n",
            "Epoch 182/200\n",
            "26/26 [==============================] - 0s 3ms/step - loss: 0.2796 - mse: 0.2796 - val_loss: 0.3036 - val_mse: 0.3036\n",
            "Epoch 183/200\n",
            "26/26 [==============================] - 0s 3ms/step - loss: 0.2795 - mse: 0.2795 - val_loss: 0.3037 - val_mse: 0.3037\n",
            "Epoch 184/200\n",
            "26/26 [==============================] - 0s 2ms/step - loss: 0.2796 - mse: 0.2796 - val_loss: 0.3039 - val_mse: 0.3039\n",
            "Epoch 185/200\n",
            "26/26 [==============================] - 0s 3ms/step - loss: 0.2794 - mse: 0.2794 - val_loss: 0.3030 - val_mse: 0.3030\n",
            "Epoch 186/200\n",
            "26/26 [==============================] - 0s 3ms/step - loss: 0.2794 - mse: 0.2794 - val_loss: 0.3035 - val_mse: 0.3035\n",
            "Epoch 187/200\n",
            "26/26 [==============================] - 0s 3ms/step - loss: 0.2791 - mse: 0.2791 - val_loss: 0.3035 - val_mse: 0.3035\n",
            "Epoch 188/200\n",
            "26/26 [==============================] - 0s 3ms/step - loss: 0.2790 - mse: 0.2790 - val_loss: 0.3033 - val_mse: 0.3033\n",
            "Epoch 189/200\n",
            "26/26 [==============================] - 0s 3ms/step - loss: 0.2793 - mse: 0.2793 - val_loss: 0.3032 - val_mse: 0.3032\n",
            "Epoch 190/200\n",
            "26/26 [==============================] - 0s 3ms/step - loss: 0.2791 - mse: 0.2791 - val_loss: 0.3030 - val_mse: 0.3030\n",
            "Epoch 191/200\n",
            "26/26 [==============================] - 0s 3ms/step - loss: 0.2788 - mse: 0.2788 - val_loss: 0.3030 - val_mse: 0.3030\n",
            "Epoch 192/200\n",
            "26/26 [==============================] - 0s 3ms/step - loss: 0.2787 - mse: 0.2787 - val_loss: 0.3033 - val_mse: 0.3033\n",
            "Epoch 193/200\n",
            "26/26 [==============================] - 0s 2ms/step - loss: 0.2786 - mse: 0.2786 - val_loss: 0.3035 - val_mse: 0.3035\n",
            "Epoch 194/200\n",
            "26/26 [==============================] - 0s 3ms/step - loss: 0.2786 - mse: 0.2786 - val_loss: 0.3029 - val_mse: 0.3029\n",
            "Epoch 195/200\n",
            "26/26 [==============================] - 0s 3ms/step - loss: 0.2789 - mse: 0.2789 - val_loss: 0.3032 - val_mse: 0.3032\n",
            "Epoch 196/200\n",
            "26/26 [==============================] - 0s 3ms/step - loss: 0.2784 - mse: 0.2784 - val_loss: 0.3024 - val_mse: 0.3024\n",
            "Epoch 197/200\n",
            "26/26 [==============================] - 0s 3ms/step - loss: 0.2785 - mse: 0.2785 - val_loss: 0.3024 - val_mse: 0.3024\n",
            "Epoch 198/200\n",
            "26/26 [==============================] - 0s 3ms/step - loss: 0.2784 - mse: 0.2784 - val_loss: 0.3029 - val_mse: 0.3029\n",
            "Epoch 199/200\n",
            "26/26 [==============================] - 0s 4ms/step - loss: 0.2781 - mse: 0.2781 - val_loss: 0.3033 - val_mse: 0.3033\n",
            "Epoch 200/200\n",
            "26/26 [==============================] - 0s 3ms/step - loss: 0.2780 - mse: 0.2780 - val_loss: 0.3028 - val_mse: 0.3028\n"
          ],
          "name": "stdout"
        }
      ]
    },
    {
      "cell_type": "code",
      "metadata": {
        "id": "AQVIz-Xoe6t1"
      },
      "source": [
        "hist = history.history\n",
        "df_hist = pd.DataFrame(hist)"
      ],
      "execution_count": null,
      "outputs": []
    },
    {
      "cell_type": "code",
      "metadata": {
        "colab": {
          "base_uri": "https://localhost:8080/",
          "height": 282
        },
        "id": "D1jDm_3UfHm2",
        "outputId": "c800cebc-8bc8-42cf-d2f8-34b2b8d8a002"
      },
      "source": [
        "df_hist[['loss','val_loss']].plot()"
      ],
      "execution_count": null,
      "outputs": [
        {
          "output_type": "execute_result",
          "data": {
            "text/plain": [
              "<matplotlib.axes._subplots.AxesSubplot at 0x7f903e2a2b50>"
            ]
          },
          "metadata": {
            "tags": []
          },
          "execution_count": 40
        },
        {
          "output_type": "display_data",
          "data": {
            "image/png": "[encoded data removed]",
            "text/plain": [
              "<Figure size 432x288 with 1 Axes>"
            ]
          },
          "metadata": {
            "tags": [],
            "needs_background": "light"
          }
        }
      ]
    },
    {
      "cell_type": "markdown",
      "metadata": {
        "id": "XfHOO_r4g4an"
      },
      "source": [
        "### **LASSO Regression**\n",
        "- L1 Regularization"
      ]
    },
    {
      "cell_type": "code",
      "metadata": {
        "id": "Vxuox71Jg6A2"
      },
      "source": [
        "from tensorflow.keras.regularizers import l1"
      ],
      "execution_count": null,
      "outputs": []
    },
    {
      "cell_type": "code",
      "metadata": {
        "id": "A7p43kE0s2Az"
      },
      "source": [
        "def lasso_regression(penality):\n",
        "  model = Sequential([\n",
        "                      layers.Dense(units=1,input_shape=(13,),kernel_regularizer=l1(penality))\n",
        "  ])\n",
        "\n",
        "  #loss and optimizer\n",
        "  loss = tf.keras.losses.mean_squared_error\n",
        "  optimizer = tf.keras.optimizers.Adam(learning_rate=0.001)\n",
        "  # compile\n",
        "  model.compile(optimizer=optimizer,loss=loss)\n",
        "  return model"
      ],
      "execution_count": null,
      "outputs": []
    },
    {
      "cell_type": "code",
      "metadata": {
        "id": "IcKc5gcPt434"
      },
      "source": [
        "# different penality factors\n",
        "penality = [1e-10,3e-10,6e-10,9e-10,\n",
        "            1e-9,3e-9,6e-9,9e-9,\n",
        "            1e-8,3e-8,6e-8,9e-8,\n",
        "            1e-7,3e-7,6e-7,9e-7,\n",
        "            1e-6,3e-6,6e-6,9e-6,\n",
        "            1e-5,3e-5,6e-5,9e-5,\n",
        "            1e-4,3e-4,6e-4,9e-4,\n",
        "            1e-3,3e-3,6e-3,9e-3,\n",
        "            1e-2,3e-2,6e-2,9e-2,\n",
        "            1e-1,3e-1,6e-1,1,3,6,10]"
      ],
      "execution_count": null,
      "outputs": []
    },
    {
      "cell_type": "code",
      "metadata": {
        "colab": {
          "base_uri": "https://localhost:8080/",
          "height": 1000
        },
        "id": "BDSaABtnuEdM",
        "outputId": "deffd350-bc0a-4eac-d49b-e2f3815bc266"
      },
      "source": [
        "# training model for each penality factor\n",
        "loss_values = [] \n",
        "for lam in penality:\n",
        "  print('Running the model for lambda = %f'%lam)\n",
        "  # initilizing model with lambda\n",
        "  model_lasso = lasso_regression(lam)\n",
        "  # fitting the model\n",
        "  history = model_lasso.fit(x_train,y_train,batch_size=100,epochs=500,validation_data=(x_test,y_test))\n",
        "  # visualize loss for different iteration or epochs\n",
        "  df_history = pd.DataFrame(history.history)\n",
        "  df_history[['loss','val_loss']].plot()\n",
        "  plt.show()\n",
        "  #  save the weight \n",
        "  weights = model_lasso.get_weights() # coloumn \n",
        "  try:\n",
        "    weight_penality = np.concatenate((weight_penality,weights[0].T),axis=0)\n",
        "  except:\n",
        "    weight_penality = weights[0].T # rows\n",
        "  # loss\n",
        "  loss_values.append(df_history.iloc[-1].to_dict())"
      ],
      "execution_count": null,
      "outputs": [
        {
          "output_type": "stream",
          "text": [
            "Running the model for lambda = 0.000000\n",
            "Epoch 1/500\n",
            "26/26 [==============================] - 0s 5ms/step - loss: 1.5071 - val_loss: 1.3655\n",
            "Epoch 2/500\n",
            "26/26 [==============================] - 0s 3ms/step - loss: 1.4066 - val_loss: 1.2771\n",
            "Epoch 3/500\n",
            "26/26 [==============================] - 0s 2ms/step - loss: 1.3129 - val_loss: 1.1979\n",
            "Epoch 4/500\n",
            "26/26 [==============================] - 0s 2ms/step - loss: 1.2281 - val_loss: 1.1248\n",
            "Epoch 5/500\n",
            "26/26 [==============================] - 0s 2ms/step - loss: 1.1496 - val_loss: 1.0564\n",
            "Epoch 6/500\n",
            "26/26 [==============================] - 0s 3ms/step - loss: 1.0777 - val_loss: 0.9927\n",
            "Epoch 7/500\n",
            "26/26 [==============================] - 0s 3ms/step - loss: 1.0105 - val_loss: 0.9347\n",
            "Epoch 8/500\n",
            "26/26 [==============================] - 0s 3ms/step - loss: 0.9495 - val_loss: 0.8791\n",
            "Epoch 9/500\n",
            "26/26 [==============================] - 0s 3ms/step - loss: 0.8917 - val_loss: 0.8303\n",
            "Epoch 10/500\n",
            "26/26 [==============================] - 0s 3ms/step - loss: 0.8391 - val_loss: 0.7858\n",
            "Epoch 11/500\n",
            "26/26 [==============================] - 0s 3ms/step - loss: 0.7910 - val_loss: 0.7425\n",
            "Epoch 12/500\n",
            "26/26 [==============================] - 0s 2ms/step - loss: 0.7460 - val_loss: 0.7040\n",
            "Epoch 13/500\n",
            "26/26 [==============================] - 0s 2ms/step - loss: 0.7049 - val_loss: 0.6675\n",
            "Epoch 14/500\n",
            "26/26 [==============================] - 0s 2ms/step - loss: 0.6674 - val_loss: 0.6348\n",
            "Epoch 15/500\n",
            "26/26 [==============================] - 0s 2ms/step - loss: 0.6326 - val_loss: 0.6043\n",
            "Epoch 16/500\n",
            "26/26 [==============================] - 0s 3ms/step - loss: 0.6012 - val_loss: 0.5770\n",
            "Epoch 17/500\n",
            "26/26 [==============================] - 0s 2ms/step - loss: 0.5718 - val_loss: 0.5518\n",
            "Epoch 18/500\n",
            "26/26 [==============================] - 0s 2ms/step - loss: 0.5456 - val_loss: 0.5295\n",
            "Epoch 19/500\n",
            "26/26 [==============================] - 0s 14ms/step - loss: 0.5217 - val_loss: 0.5077\n",
            "Epoch 20/500\n",
            "26/26 [==============================] - 0s 3ms/step - loss: 0.4993 - val_loss: 0.4897\n",
            "Epoch 21/500\n",
            "26/26 [==============================] - 0s 2ms/step - loss: 0.4798 - val_loss: 0.4722\n",
            "Epoch 22/500\n",
            "26/26 [==============================] - 0s 3ms/step - loss: 0.4618 - val_loss: 0.4566\n",
            "Epoch 23/500\n",
            "26/26 [==============================] - 0s 3ms/step - loss: 0.4458 - val_loss: 0.4429\n",
            "Epoch 24/500\n",
            "26/26 [==============================] - 0s 2ms/step - loss: 0.4310 - val_loss: 0.4305\n",
            "Epoch 25/500\n",
            "26/26 [==============================] - 0s 2ms/step - loss: 0.4182 - val_loss: 0.4185\n",
            "Epoch 26/500\n",
            "26/26 [==============================] - 0s 2ms/step - loss: 0.4064 - val_loss: 0.4091\n",
            "Epoch 27/500\n",
            "26/26 [==============================] - 0s 4ms/step - loss: 0.3958 - val_loss: 0.3994\n",
            "Epoch 28/500\n",
            "26/26 [==============================] - 0s 2ms/step - loss: 0.3862 - val_loss: 0.3916\n",
            "Epoch 29/500\n",
            "26/26 [==============================] - 0s 2ms/step - loss: 0.3778 - val_loss: 0.3841\n",
            "Epoch 30/500\n",
            "26/26 [==============================] - 0s 3ms/step - loss: 0.3700 - val_loss: 0.3778\n",
            "Epoch 31/500\n",
            "26/26 [==============================] - 0s 3ms/step - loss: 0.3630 - val_loss: 0.3718\n",
            "Epoch 32/500\n",
            "26/26 [==============================] - 0s 2ms/step - loss: 0.3571 - val_loss: 0.3663\n",
            "Epoch 33/500\n",
            "26/26 [==============================] - 0s 2ms/step - loss: 0.3517 - val_loss: 0.3624\n",
            "Epoch 34/500\n",
            "26/26 [==============================] - 0s 3ms/step - loss: 0.3465 - val_loss: 0.3573\n",
            "Epoch 35/500\n",
            "26/26 [==============================] - 0s 3ms/step - loss: 0.3418 - val_loss: 0.3532\n",
            "Epoch 36/500\n",
            "26/26 [==============================] - 0s 3ms/step - loss: 0.3381 - val_loss: 0.3492\n",
            "Epoch 37/500\n",
            "26/26 [==============================] - 0s 3ms/step - loss: 0.3340 - val_loss: 0.3466\n",
            "Epoch 38/500\n",
            "26/26 [==============================] - 0s 3ms/step - loss: 0.3310 - val_loss: 0.3434\n",
            "Epoch 39/500\n",
            "26/26 [==============================] - 0s 2ms/step - loss: 0.3277 - val_loss: 0.3414\n",
            "Epoch 40/500\n",
            "26/26 [==============================] - 0s 3ms/step - loss: 0.3251 - val_loss: 0.3387\n",
            "Epoch 41/500\n",
            "26/26 [==============================] - 0s 3ms/step - loss: 0.3225 - val_loss: 0.3365\n",
            "Epoch 42/500\n",
            "26/26 [==============================] - 0s 3ms/step - loss: 0.3200 - val_loss: 0.3347\n",
            "Epoch 43/500\n",
            "26/26 [==============================] - 0s 3ms/step - loss: 0.3181 - val_loss: 0.3322\n",
            "Epoch 44/500\n",
            "26/26 [==============================] - 0s 3ms/step - loss: 0.3165 - val_loss: 0.3304\n",
            "Epoch 45/500\n",
            "26/26 [==============================] - 0s 3ms/step - loss: 0.3143 - val_loss: 0.3292\n",
            "Epoch 46/500\n",
            "26/26 [==============================] - 0s 3ms/step - loss: 0.3125 - val_loss: 0.3276\n",
            "Epoch 47/500\n",
            "26/26 [==============================] - 0s 3ms/step - loss: 0.3110 - val_loss: 0.3265\n",
            "Epoch 48/500\n",
            "26/26 [==============================] - 0s 2ms/step - loss: 0.3094 - val_loss: 0.3247\n",
            "Epoch 49/500\n",
            "26/26 [==============================] - 0s 2ms/step - loss: 0.3082 - val_loss: 0.3237\n",
            "Epoch 50/500\n",
            "26/26 [==============================] - 0s 2ms/step - loss: 0.3069 - val_loss: 0.3223\n",
            "Epoch 51/500\n",
            "26/26 [==============================] - 0s 3ms/step - loss: 0.3057 - val_loss: 0.3215\n",
            "Epoch 52/500\n",
            "26/26 [==============================] - 0s 2ms/step - loss: 0.3045 - val_loss: 0.3207\n",
            "Epoch 53/500\n",
            "26/26 [==============================] - 0s 2ms/step - loss: 0.3035 - val_loss: 0.3196\n",
            "Epoch 54/500\n",
            "26/26 [==============================] - 0s 3ms/step - loss: 0.3024 - val_loss: 0.3190\n",
            "Epoch 55/500\n",
            "26/26 [==============================] - 0s 3ms/step - loss: 0.3016 - val_loss: 0.3182\n",
            "Epoch 56/500\n",
            "26/26 [==============================] - 0s 3ms/step - loss: 0.3005 - val_loss: 0.3170\n",
            "Epoch 57/500\n",
            "26/26 [==============================] - 0s 3ms/step - loss: 0.2998 - val_loss: 0.3162\n",
            "Epoch 58/500\n",
            "26/26 [==============================] - 0s 2ms/step - loss: 0.2988 - val_loss: 0.3155\n",
            "Epoch 59/500\n",
            "26/26 [==============================] - 0s 3ms/step - loss: 0.2981 - val_loss: 0.3148\n",
            "Epoch 60/500\n",
            "26/26 [==============================] - 0s 2ms/step - loss: 0.2972 - val_loss: 0.3147\n",
            "Epoch 61/500\n",
            "26/26 [==============================] - 0s 3ms/step - loss: 0.2966 - val_loss: 0.3139\n",
            "Epoch 62/500\n",
            "26/26 [==============================] - 0s 2ms/step - loss: 0.2958 - val_loss: 0.3134\n",
            "Epoch 63/500\n",
            "26/26 [==============================] - 0s 3ms/step - loss: 0.2954 - val_loss: 0.3125\n",
            "Epoch 64/500\n",
            "26/26 [==============================] - 0s 2ms/step - loss: 0.2947 - val_loss: 0.3126\n",
            "Epoch 65/500\n",
            "26/26 [==============================] - 0s 3ms/step - loss: 0.2942 - val_loss: 0.3119\n",
            "Epoch 66/500\n",
            "26/26 [==============================] - 0s 2ms/step - loss: 0.2934 - val_loss: 0.3113\n",
            "Epoch 67/500\n",
            "26/26 [==============================] - 0s 2ms/step - loss: 0.2929 - val_loss: 0.3112\n",
            "Epoch 68/500\n",
            "26/26 [==============================] - 0s 2ms/step - loss: 0.2924 - val_loss: 0.3105\n",
            "Epoch 69/500\n",
            "26/26 [==============================] - 0s 2ms/step - loss: 0.2918 - val_loss: 0.3097\n",
            "Epoch 70/500\n",
            "26/26 [==============================] - 0s 3ms/step - loss: 0.2913 - val_loss: 0.3093\n",
            "Epoch 71/500\n",
            "26/26 [==============================] - 0s 3ms/step - loss: 0.2909 - val_loss: 0.3094\n",
            "Epoch 72/500\n",
            "26/26 [==============================] - 0s 3ms/step - loss: 0.2909 - val_loss: 0.3086\n",
            "Epoch 73/500\n",
            "26/26 [==============================] - 0s 2ms/step - loss: 0.2903 - val_loss: 0.3088\n",
            "Epoch 74/500\n",
            "26/26 [==============================] - 0s 3ms/step - loss: 0.2896 - val_loss: 0.3085\n",
            "Epoch 75/500\n",
            "26/26 [==============================] - 0s 2ms/step - loss: 0.2893 - val_loss: 0.3085\n",
            "Epoch 76/500\n",
            "26/26 [==============================] - 0s 3ms/step - loss: 0.2889 - val_loss: 0.3080\n",
            "Epoch 77/500\n",
            "26/26 [==============================] - 0s 3ms/step - loss: 0.2886 - val_loss: 0.3074\n",
            "Epoch 78/500\n",
            "26/26 [==============================] - 0s 3ms/step - loss: 0.2883 - val_loss: 0.3073\n",
            "Epoch 79/500\n",
            "26/26 [==============================] - 0s 3ms/step - loss: 0.2878 - val_loss: 0.3069\n",
            "Epoch 80/500\n",
            "26/26 [==============================] - 0s 3ms/step - loss: 0.2877 - val_loss: 0.3072\n",
            "Epoch 81/500\n",
            "26/26 [==============================] - 0s 2ms/step - loss: 0.2872 - val_loss: 0.3065\n",
            "Epoch 82/500\n",
            "26/26 [==============================] - 0s 3ms/step - loss: 0.2868 - val_loss: 0.3063\n",
            "Epoch 83/500\n",
            "26/26 [==============================] - 0s 2ms/step - loss: 0.2867 - val_loss: 0.3065\n",
            "Epoch 84/500\n",
            "26/26 [==============================] - 0s 3ms/step - loss: 0.2865 - val_loss: 0.3058\n",
            "Epoch 85/500\n",
            "26/26 [==============================] - 0s 3ms/step - loss: 0.2860 - val_loss: 0.3060\n",
            "Epoch 86/500\n",
            "26/26 [==============================] - 0s 3ms/step - loss: 0.2859 - val_loss: 0.3060\n",
            "Epoch 87/500\n",
            "26/26 [==============================] - 0s 2ms/step - loss: 0.2857 - val_loss: 0.3051\n",
            "Epoch 88/500\n",
            "26/26 [==============================] - 0s 3ms/step - loss: 0.2854 - val_loss: 0.3057\n",
            "Epoch 89/500\n",
            "26/26 [==============================] - 0s 2ms/step - loss: 0.2851 - val_loss: 0.3054\n",
            "Epoch 90/500\n",
            "26/26 [==============================] - 0s 3ms/step - loss: 0.2849 - val_loss: 0.3052\n",
            "Epoch 91/500\n",
            "26/26 [==============================] - 0s 2ms/step - loss: 0.2847 - val_loss: 0.3049\n",
            "Epoch 92/500\n",
            "26/26 [==============================] - 0s 2ms/step - loss: 0.2846 - val_loss: 0.3052\n",
            "Epoch 93/500\n",
            "26/26 [==============================] - 0s 3ms/step - loss: 0.2842 - val_loss: 0.3047\n",
            "Epoch 94/500\n",
            "26/26 [==============================] - 0s 3ms/step - loss: 0.2841 - val_loss: 0.3054\n",
            "Epoch 95/500\n",
            "26/26 [==============================] - 0s 2ms/step - loss: 0.2839 - val_loss: 0.3041\n",
            "Epoch 96/500\n",
            "26/26 [==============================] - 0s 3ms/step - loss: 0.2837 - val_loss: 0.3044\n",
            "Epoch 97/500\n",
            "26/26 [==============================] - 0s 2ms/step - loss: 0.2835 - val_loss: 0.3040\n",
            "Epoch 98/500\n",
            "26/26 [==============================] - 0s 3ms/step - loss: 0.2834 - val_loss: 0.3037\n",
            "Epoch 99/500\n",
            "26/26 [==============================] - 0s 2ms/step - loss: 0.2831 - val_loss: 0.3038\n",
            "Epoch 100/500\n",
            "26/26 [==============================] - 0s 2ms/step - loss: 0.2829 - val_loss: 0.3038\n",
            "Epoch 101/500\n",
            "26/26 [==============================] - 0s 3ms/step - loss: 0.2828 - val_loss: 0.3036\n",
            "Epoch 102/500\n",
            " 1/26 [>.............................] - ETA: 0s - loss: 0.3145"
          ],
          "name": "stdout"
        },
        {
          "output_type": "error",
          "ename": "KeyboardInterrupt",
          "evalue": "ignored",
          "traceback": [
            "\u001b[0;31m---------------------------------------------------------------------------\u001b[0m",
            "\u001b[0;31mKeyboardInterrupt\u001b[0m                         Traceback (most recent call last)",
            "\u001b[0;32m<ipython-input-70-dcd7094cc411>\u001b[0m in \u001b[0;36m<module>\u001b[0;34m()\u001b[0m\n\u001b[1;32m      6\u001b[0m   \u001b[0mmodel_lasso\u001b[0m \u001b[0;34m=\u001b[0m \u001b[0mlasso_regression\u001b[0m\u001b[0;34m(\u001b[0m\u001b[0mlam\u001b[0m\u001b[0;34m)\u001b[0m\u001b[0;34m\u001b[0m\u001b[0;34m\u001b[0m\u001b[0m\n\u001b[1;32m      7\u001b[0m   \u001b[0;31m# fitting the model\u001b[0m\u001b[0;34m\u001b[0m\u001b[0;34m\u001b[0m\u001b[0;34m\u001b[0m\u001b[0m\n\u001b[0;32m----> 8\u001b[0;31m   \u001b[0mhistory\u001b[0m \u001b[0;34m=\u001b[0m \u001b[0mmodel_lasso\u001b[0m\u001b[0;34m.\u001b[0m\u001b[0mfit\u001b[0m\u001b[0;34m(\u001b[0m\u001b[0mx_train\u001b[0m\u001b[0;34m,\u001b[0m\u001b[0my_train\u001b[0m\u001b[0;34m,\u001b[0m\u001b[0mbatch_size\u001b[0m\u001b[0;34m=\u001b[0m\u001b[0;36m100\u001b[0m\u001b[0;34m,\u001b[0m\u001b[0mepochs\u001b[0m\u001b[0;34m=\u001b[0m\u001b[0;36m500\u001b[0m\u001b[0;34m,\u001b[0m\u001b[0mvalidation_data\u001b[0m\u001b[0;34m=\u001b[0m\u001b[0;34m(\u001b[0m\u001b[0mx_test\u001b[0m\u001b[0;34m,\u001b[0m\u001b[0my_test\u001b[0m\u001b[0;34m)\u001b[0m\u001b[0;34m)\u001b[0m\u001b[0;34m\u001b[0m\u001b[0;34m\u001b[0m\u001b[0m\n\u001b[0m\u001b[1;32m      9\u001b[0m   \u001b[0;31m# visualize loss for different iteration or epochs\u001b[0m\u001b[0;34m\u001b[0m\u001b[0;34m\u001b[0m\u001b[0;34m\u001b[0m\u001b[0m\n\u001b[1;32m     10\u001b[0m   \u001b[0mdf_history\u001b[0m \u001b[0;34m=\u001b[0m \u001b[0mpd\u001b[0m\u001b[0;34m.\u001b[0m\u001b[0mDataFrame\u001b[0m\u001b[0;34m(\u001b[0m\u001b[0mhistory\u001b[0m\u001b[0;34m.\u001b[0m\u001b[0mhistory\u001b[0m\u001b[0;34m)\u001b[0m\u001b[0;34m\u001b[0m\u001b[0;34m\u001b[0m\u001b[0m\n",
            "\u001b[0;32m/usr/local/lib/python3.7/dist-packages/tensorflow/python/keras/engine/training.py\u001b[0m in \u001b[0;36mfit\u001b[0;34m(self, x, y, batch_size, epochs, verbose, callbacks, validation_split, validation_data, shuffle, class_weight, sample_weight, initial_epoch, steps_per_epoch, validation_steps, validation_batch_size, validation_freq, max_queue_size, workers, use_multiprocessing)\u001b[0m\n\u001b[1;32m   1181\u001b[0m                 _r=1):\n\u001b[1;32m   1182\u001b[0m               \u001b[0mcallbacks\u001b[0m\u001b[0;34m.\u001b[0m\u001b[0mon_train_batch_begin\u001b[0m\u001b[0;34m(\u001b[0m\u001b[0mstep\u001b[0m\u001b[0;34m)\u001b[0m\u001b[0;34m\u001b[0m\u001b[0;34m\u001b[0m\u001b[0m\n\u001b[0;32m-> 1183\u001b[0;31m               \u001b[0mtmp_logs\u001b[0m \u001b[0;34m=\u001b[0m \u001b[0mself\u001b[0m\u001b[0;34m.\u001b[0m\u001b[0mtrain_function\u001b[0m\u001b[0;34m(\u001b[0m\u001b[0miterator\u001b[0m\u001b[0;34m)\u001b[0m\u001b[0;34m\u001b[0m\u001b[0;34m\u001b[0m\u001b[0m\n\u001b[0m\u001b[1;32m   1184\u001b[0m               \u001b[0;32mif\u001b[0m \u001b[0mdata_handler\u001b[0m\u001b[0;34m.\u001b[0m\u001b[0mshould_sync\u001b[0m\u001b[0;34m:\u001b[0m\u001b[0;34m\u001b[0m\u001b[0;34m\u001b[0m\u001b[0m\n\u001b[1;32m   1185\u001b[0m                 \u001b[0mcontext\u001b[0m\u001b[0;34m.\u001b[0m\u001b[0masync_wait\u001b[0m\u001b[0;34m(\u001b[0m\u001b[0;34m)\u001b[0m\u001b[0;34m\u001b[0m\u001b[0;34m\u001b[0m\u001b[0m\n",
            "\u001b[0;32m/usr/local/lib/python3.7/dist-packages/tensorflow/python/eager/def_function.py\u001b[0m in \u001b[0;36m__call__\u001b[0;34m(self, *args, **kwds)\u001b[0m\n\u001b[1;32m    887\u001b[0m \u001b[0;34m\u001b[0m\u001b[0m\n\u001b[1;32m    888\u001b[0m       \u001b[0;32mwith\u001b[0m \u001b[0mOptionalXlaContext\u001b[0m\u001b[0;34m(\u001b[0m\u001b[0mself\u001b[0m\u001b[0;34m.\u001b[0m\u001b[0m_jit_compile\u001b[0m\u001b[0;34m)\u001b[0m\u001b[0;34m:\u001b[0m\u001b[0;34m\u001b[0m\u001b[0;34m\u001b[0m\u001b[0m\n\u001b[0;32m--> 889\u001b[0;31m         \u001b[0mresult\u001b[0m \u001b[0;34m=\u001b[0m \u001b[0mself\u001b[0m\u001b[0;34m.\u001b[0m\u001b[0m_call\u001b[0m\u001b[0;34m(\u001b[0m\u001b[0;34m*\u001b[0m\u001b[0margs\u001b[0m\u001b[0;34m,\u001b[0m \u001b[0;34m**\u001b[0m\u001b[0mkwds\u001b[0m\u001b[0;34m)\u001b[0m\u001b[0;34m\u001b[0m\u001b[0;34m\u001b[0m\u001b[0m\n\u001b[0m\u001b[1;32m    890\u001b[0m \u001b[0;34m\u001b[0m\u001b[0m\n\u001b[1;32m    891\u001b[0m       \u001b[0mnew_tracing_count\u001b[0m \u001b[0;34m=\u001b[0m \u001b[0mself\u001b[0m\u001b[0;34m.\u001b[0m\u001b[0mexperimental_get_tracing_count\u001b[0m\u001b[0;34m(\u001b[0m\u001b[0;34m)\u001b[0m\u001b[0;34m\u001b[0m\u001b[0;34m\u001b[0m\u001b[0m\n",
            "\u001b[0;32m/usr/local/lib/python3.7/dist-packages/tensorflow/python/eager/def_function.py\u001b[0m in \u001b[0;36m_call\u001b[0;34m(self, *args, **kwds)\u001b[0m\n\u001b[1;32m    915\u001b[0m       \u001b[0;31m# In this case we have created variables on the first call, so we run the\u001b[0m\u001b[0;34m\u001b[0m\u001b[0;34m\u001b[0m\u001b[0;34m\u001b[0m\u001b[0m\n\u001b[1;32m    916\u001b[0m       \u001b[0;31m# defunned version which is guaranteed to never create variables.\u001b[0m\u001b[0;34m\u001b[0m\u001b[0;34m\u001b[0m\u001b[0;34m\u001b[0m\u001b[0m\n\u001b[0;32m--> 917\u001b[0;31m       \u001b[0;32mreturn\u001b[0m \u001b[0mself\u001b[0m\u001b[0;34m.\u001b[0m\u001b[0m_stateless_fn\u001b[0m\u001b[0;34m(\u001b[0m\u001b[0;34m*\u001b[0m\u001b[0margs\u001b[0m\u001b[0;34m,\u001b[0m \u001b[0;34m**\u001b[0m\u001b[0mkwds\u001b[0m\u001b[0;34m)\u001b[0m  \u001b[0;31m# pylint: disable=not-callable\u001b[0m\u001b[0;34m\u001b[0m\u001b[0;34m\u001b[0m\u001b[0m\n\u001b[0m\u001b[1;32m    918\u001b[0m     \u001b[0;32melif\u001b[0m \u001b[0mself\u001b[0m\u001b[0;34m.\u001b[0m\u001b[0m_stateful_fn\u001b[0m \u001b[0;32mis\u001b[0m \u001b[0;32mnot\u001b[0m \u001b[0;32mNone\u001b[0m\u001b[0;34m:\u001b[0m\u001b[0;34m\u001b[0m\u001b[0;34m\u001b[0m\u001b[0m\n\u001b[1;32m    919\u001b[0m       \u001b[0;31m# Release the lock early so that multiple threads can perform the call\u001b[0m\u001b[0;34m\u001b[0m\u001b[0;34m\u001b[0m\u001b[0;34m\u001b[0m\u001b[0m\n",
            "\u001b[0;32m/usr/local/lib/python3.7/dist-packages/tensorflow/python/eager/function.py\u001b[0m in \u001b[0;36m__call__\u001b[0;34m(self, *args, **kwargs)\u001b[0m\n\u001b[1;32m   3022\u001b[0m        filtered_flat_args) = self._maybe_define_function(args, kwargs)\n\u001b[1;32m   3023\u001b[0m     return graph_function._call_flat(\n\u001b[0;32m-> 3024\u001b[0;31m         filtered_flat_args, captured_inputs=graph_function.captured_inputs)  # pylint: disable=protected-access\n\u001b[0m\u001b[1;32m   3025\u001b[0m \u001b[0;34m\u001b[0m\u001b[0m\n\u001b[1;32m   3026\u001b[0m   \u001b[0;34m@\u001b[0m\u001b[0mproperty\u001b[0m\u001b[0;34m\u001b[0m\u001b[0;34m\u001b[0m\u001b[0m\n",
            "\u001b[0;32m/usr/local/lib/python3.7/dist-packages/tensorflow/python/eager/function.py\u001b[0m in \u001b[0;36m_call_flat\u001b[0;34m(self, args, captured_inputs, cancellation_manager)\u001b[0m\n\u001b[1;32m   1959\u001b[0m       \u001b[0;31m# No tape is watching; skip to running the function.\u001b[0m\u001b[0;34m\u001b[0m\u001b[0;34m\u001b[0m\u001b[0;34m\u001b[0m\u001b[0m\n\u001b[1;32m   1960\u001b[0m       return self._build_call_outputs(self._inference_function.call(\n\u001b[0;32m-> 1961\u001b[0;31m           ctx, args, cancellation_manager=cancellation_manager))\n\u001b[0m\u001b[1;32m   1962\u001b[0m     forward_backward = self._select_forward_and_backward_functions(\n\u001b[1;32m   1963\u001b[0m         \u001b[0margs\u001b[0m\u001b[0;34m,\u001b[0m\u001b[0;34m\u001b[0m\u001b[0;34m\u001b[0m\u001b[0m\n",
            "\u001b[0;32m/usr/local/lib/python3.7/dist-packages/tensorflow/python/eager/function.py\u001b[0m in \u001b[0;36mcall\u001b[0;34m(self, ctx, args, cancellation_manager)\u001b[0m\n\u001b[1;32m    594\u001b[0m               \u001b[0minputs\u001b[0m\u001b[0;34m=\u001b[0m\u001b[0margs\u001b[0m\u001b[0;34m,\u001b[0m\u001b[0;34m\u001b[0m\u001b[0;34m\u001b[0m\u001b[0m\n\u001b[1;32m    595\u001b[0m               \u001b[0mattrs\u001b[0m\u001b[0;34m=\u001b[0m\u001b[0mattrs\u001b[0m\u001b[0;34m,\u001b[0m\u001b[0;34m\u001b[0m\u001b[0;34m\u001b[0m\u001b[0m\n\u001b[0;32m--> 596\u001b[0;31m               ctx=ctx)\n\u001b[0m\u001b[1;32m    597\u001b[0m         \u001b[0;32melse\u001b[0m\u001b[0;34m:\u001b[0m\u001b[0;34m\u001b[0m\u001b[0;34m\u001b[0m\u001b[0m\n\u001b[1;32m    598\u001b[0m           outputs = execute.execute_with_cancellation(\n",
            "\u001b[0;32m/usr/local/lib/python3.7/dist-packages/tensorflow/python/eager/execute.py\u001b[0m in \u001b[0;36mquick_execute\u001b[0;34m(op_name, num_outputs, inputs, attrs, ctx, name)\u001b[0m\n\u001b[1;32m     58\u001b[0m     \u001b[0mctx\u001b[0m\u001b[0;34m.\u001b[0m\u001b[0mensure_initialized\u001b[0m\u001b[0;34m(\u001b[0m\u001b[0;34m)\u001b[0m\u001b[0;34m\u001b[0m\u001b[0;34m\u001b[0m\u001b[0m\n\u001b[1;32m     59\u001b[0m     tensors = pywrap_tfe.TFE_Py_Execute(ctx._handle, device_name, op_name,\n\u001b[0;32m---> 60\u001b[0;31m                                         inputs, attrs, num_outputs)\n\u001b[0m\u001b[1;32m     61\u001b[0m   \u001b[0;32mexcept\u001b[0m \u001b[0mcore\u001b[0m\u001b[0;34m.\u001b[0m\u001b[0m_NotOkStatusException\u001b[0m \u001b[0;32mas\u001b[0m \u001b[0me\u001b[0m\u001b[0;34m:\u001b[0m\u001b[0;34m\u001b[0m\u001b[0;34m\u001b[0m\u001b[0m\n\u001b[1;32m     62\u001b[0m     \u001b[0;32mif\u001b[0m \u001b[0mname\u001b[0m \u001b[0;32mis\u001b[0m \u001b[0;32mnot\u001b[0m \u001b[0;32mNone\u001b[0m\u001b[0;34m:\u001b[0m\u001b[0;34m\u001b[0m\u001b[0;34m\u001b[0m\u001b[0m\n",
            "\u001b[0;31mKeyboardInterrupt\u001b[0m: "
          ]
        }
      ]
    },
    {
      "cell_type": "markdown",
      "metadata": {
        "id": "-3ts0Rb_xV38"
      },
      "source": [
        "### **Feature Selection**"
      ]
    },
    {
      "cell_type": "code",
      "metadata": {
        "id": "mTGYiY10xW48"
      },
      "source": [
        "log_lambda=np.log10(penality)\n",
        "#weight_penality\n",
        "df_weights = pd.DataFrame(weight_penality)\n",
        "# loss\n",
        "df_loss = pd.DataFrame(loss_values)"
      ],
      "execution_count": null,
      "outputs": []
    },
    {
      "cell_type": "markdown",
      "metadata": {
        "id": "5ve7fdwPzyi_"
      },
      "source": [
        "**Visulization**"
      ]
    },
    {
      "cell_type": "code",
      "metadata": {
        "colab": {
          "base_uri": "https://localhost:8080/"
        },
        "id": "X1C6ox1P0zHL",
        "outputId": "48cc1311-589c-4296-c7a0-b34feb5e91b6"
      },
      "source": [
        "df_weights.iloc[0]"
      ],
      "execution_count": null,
      "outputs": [
        {
          "output_type": "execute_result",
          "data": {
            "text/plain": [
              "0     0.050898\n",
              "1     0.073927\n",
              "2    -0.033329\n",
              "3    -0.019556\n",
              "4     1.048638\n",
              "5     0.821342\n",
              "6     0.037994\n",
              "7    -0.005354\n",
              "8    -1.211219\n",
              "9    -0.121205\n",
              "10    0.169702\n",
              "11   -0.107160\n",
              "12   -0.214061\n",
              "Name: 0, dtype: float32"
            ]
          },
          "metadata": {
            "tags": []
          },
          "execution_count": 72
        }
      ]
    },
    {
      "cell_type": "code",
      "metadata": {
        "colab": {
          "base_uri": "https://localhost:8080/"
        },
        "id": "E-7DDQZv07dK",
        "outputId": "c43203a6-9450-41bc-9bfd-0a2cf386e05e"
      },
      "source": [
        "list(log_lambda).index(-2)"
      ],
      "execution_count": null,
      "outputs": [
        {
          "output_type": "execute_result",
          "data": {
            "text/plain": [
              "32"
            ]
          },
          "metadata": {
            "tags": []
          },
          "execution_count": 73
        }
      ]
    },
    {
      "cell_type": "code",
      "metadata": {
        "colab": {
          "base_uri": "https://localhost:8080/",
          "height": 749
        },
        "id": "RV-PTBaCz3vC",
        "outputId": "db035c9e-41fd-4cb7-df73-6c9e4b51b5ef"
      },
      "source": [
        "plt.figure(figsize=(20,6))\n",
        "plt.subplot(1,2,1),\n",
        "plt.plot(log_lambda,df_weights)\n",
        "#lablel\n",
        "plt.xlabel('Log_Lambda')\n",
        "plt.ylabel('Coeffients_weights')\n",
        "plt.grid()\n",
        "# weight number\n",
        "for i in range(13):\n",
        "  plt.text(-10,df_weights.iloc[0][i],'%d'%i)\n",
        "\n",
        "plt.plot([-2,-2],[-1.1,1.1],'k:')\n",
        "\n",
        "\n",
        "plt.subplot(1,2,2)\n",
        "ply.plot(log_lamda,df_loss['val_loss'])\n",
        "#lablel\n",
        "plt.xlabel('Log_Lambda')\n",
        "plt.ylabel('Loss')\n",
        "plt.grid()\n",
        "plt.plot([-2,-2],[0.3,1.1],'k:')\n",
        "\n",
        "plt.show()"
      ],
      "execution_count": null,
      "outputs": [
        {
          "output_type": "error",
          "ename": "KeyError",
          "evalue": "ignored",
          "traceback": [
            "\u001b[0;31m---------------------------------------------------------------------------\u001b[0m",
            "\u001b[0;31mKeyError\u001b[0m                                  Traceback (most recent call last)",
            "\u001b[0;32m<ipython-input-75-ce46f0c537d7>\u001b[0m in \u001b[0;36m<module>\u001b[0;34m()\u001b[0m\n\u001b[1;32m      1\u001b[0m \u001b[0mplt\u001b[0m\u001b[0;34m.\u001b[0m\u001b[0mfigure\u001b[0m\u001b[0;34m(\u001b[0m\u001b[0mfigsize\u001b[0m\u001b[0;34m=\u001b[0m\u001b[0;34m(\u001b[0m\u001b[0;36m20\u001b[0m\u001b[0;34m,\u001b[0m\u001b[0;36m6\u001b[0m\u001b[0;34m)\u001b[0m\u001b[0;34m)\u001b[0m\u001b[0;34m\u001b[0m\u001b[0;34m\u001b[0m\u001b[0m\n\u001b[1;32m      2\u001b[0m \u001b[0mplt\u001b[0m\u001b[0;34m.\u001b[0m\u001b[0msubplot\u001b[0m\u001b[0;34m(\u001b[0m\u001b[0;36m1\u001b[0m\u001b[0;34m,\u001b[0m\u001b[0;36m2\u001b[0m\u001b[0;34m,\u001b[0m\u001b[0;36m1\u001b[0m\u001b[0;34m)\u001b[0m\u001b[0;34m,\u001b[0m\u001b[0;34m\u001b[0m\u001b[0;34m\u001b[0m\u001b[0m\n\u001b[0;32m----> 3\u001b[0;31m \u001b[0mplt\u001b[0m\u001b[0;34m.\u001b[0m\u001b[0mplot\u001b[0m\u001b[0;34m(\u001b[0m\u001b[0mlog_lambda\u001b[0m\u001b[0;34m,\u001b[0m\u001b[0mdf_weights\u001b[0m\u001b[0;34m)\u001b[0m\u001b[0;34m\u001b[0m\u001b[0;34m\u001b[0m\u001b[0m\n\u001b[0m\u001b[1;32m      4\u001b[0m \u001b[0;31m#lablel\u001b[0m\u001b[0;34m\u001b[0m\u001b[0;34m\u001b[0m\u001b[0;34m\u001b[0m\u001b[0m\n\u001b[1;32m      5\u001b[0m \u001b[0mplt\u001b[0m\u001b[0;34m.\u001b[0m\u001b[0mxlabel\u001b[0m\u001b[0;34m(\u001b[0m\u001b[0;34m'Log_Lambda'\u001b[0m\u001b[0;34m)\u001b[0m\u001b[0;34m\u001b[0m\u001b[0;34m\u001b[0m\u001b[0m\n",
            "\u001b[0;32m/usr/local/lib/python3.7/dist-packages/matplotlib/pyplot.py\u001b[0m in \u001b[0;36mplot\u001b[0;34m(scalex, scaley, data, *args, **kwargs)\u001b[0m\n\u001b[1;32m   2761\u001b[0m     return gca().plot(\n\u001b[1;32m   2762\u001b[0m         *args, scalex=scalex, scaley=scaley, **({\"data\": data} if data\n\u001b[0;32m-> 2763\u001b[0;31m         is not None else {}), **kwargs)\n\u001b[0m\u001b[1;32m   2764\u001b[0m \u001b[0;34m\u001b[0m\u001b[0m\n\u001b[1;32m   2765\u001b[0m \u001b[0;34m\u001b[0m\u001b[0m\n",
            "\u001b[0;32m/usr/local/lib/python3.7/dist-packages/matplotlib/axes/_axes.py\u001b[0m in \u001b[0;36mplot\u001b[0;34m(self, scalex, scaley, data, *args, **kwargs)\u001b[0m\n\u001b[1;32m   1645\u001b[0m         \"\"\"\n\u001b[1;32m   1646\u001b[0m         \u001b[0mkwargs\u001b[0m \u001b[0;34m=\u001b[0m \u001b[0mcbook\u001b[0m\u001b[0;34m.\u001b[0m\u001b[0mnormalize_kwargs\u001b[0m\u001b[0;34m(\u001b[0m\u001b[0mkwargs\u001b[0m\u001b[0;34m,\u001b[0m \u001b[0mmlines\u001b[0m\u001b[0;34m.\u001b[0m\u001b[0mLine2D\u001b[0m\u001b[0;34m)\u001b[0m\u001b[0;34m\u001b[0m\u001b[0;34m\u001b[0m\u001b[0m\n\u001b[0;32m-> 1647\u001b[0;31m         \u001b[0mlines\u001b[0m \u001b[0;34m=\u001b[0m \u001b[0;34m[\u001b[0m\u001b[0;34m*\u001b[0m\u001b[0mself\u001b[0m\u001b[0;34m.\u001b[0m\u001b[0m_get_lines\u001b[0m\u001b[0;34m(\u001b[0m\u001b[0;34m*\u001b[0m\u001b[0margs\u001b[0m\u001b[0;34m,\u001b[0m \u001b[0mdata\u001b[0m\u001b[0;34m=\u001b[0m\u001b[0mdata\u001b[0m\u001b[0;34m,\u001b[0m \u001b[0;34m**\u001b[0m\u001b[0mkwargs\u001b[0m\u001b[0;34m)\u001b[0m\u001b[0;34m]\u001b[0m\u001b[0;34m\u001b[0m\u001b[0;34m\u001b[0m\u001b[0m\n\u001b[0m\u001b[1;32m   1648\u001b[0m         \u001b[0;32mfor\u001b[0m \u001b[0mline\u001b[0m \u001b[0;32min\u001b[0m \u001b[0mlines\u001b[0m\u001b[0;34m:\u001b[0m\u001b[0;34m\u001b[0m\u001b[0;34m\u001b[0m\u001b[0m\n\u001b[1;32m   1649\u001b[0m             \u001b[0mself\u001b[0m\u001b[0;34m.\u001b[0m\u001b[0madd_line\u001b[0m\u001b[0;34m(\u001b[0m\u001b[0mline\u001b[0m\u001b[0;34m)\u001b[0m\u001b[0;34m\u001b[0m\u001b[0;34m\u001b[0m\u001b[0m\n",
            "\u001b[0;32m/usr/local/lib/python3.7/dist-packages/matplotlib/axes/_base.py\u001b[0m in \u001b[0;36m__call__\u001b[0;34m(self, *args, **kwargs)\u001b[0m\n\u001b[1;32m    214\u001b[0m                 \u001b[0mthis\u001b[0m \u001b[0;34m+=\u001b[0m \u001b[0margs\u001b[0m\u001b[0;34m[\u001b[0m\u001b[0;36m0\u001b[0m\u001b[0;34m]\u001b[0m\u001b[0;34m,\u001b[0m\u001b[0;34m\u001b[0m\u001b[0;34m\u001b[0m\u001b[0m\n\u001b[1;32m    215\u001b[0m                 \u001b[0margs\u001b[0m \u001b[0;34m=\u001b[0m \u001b[0margs\u001b[0m\u001b[0;34m[\u001b[0m\u001b[0;36m1\u001b[0m\u001b[0;34m:\u001b[0m\u001b[0;34m]\u001b[0m\u001b[0;34m\u001b[0m\u001b[0;34m\u001b[0m\u001b[0m\n\u001b[0;32m--> 216\u001b[0;31m             \u001b[0;32myield\u001b[0m \u001b[0;32mfrom\u001b[0m \u001b[0mself\u001b[0m\u001b[0;34m.\u001b[0m\u001b[0m_plot_args\u001b[0m\u001b[0;34m(\u001b[0m\u001b[0mthis\u001b[0m\u001b[0;34m,\u001b[0m \u001b[0mkwargs\u001b[0m\u001b[0;34m)\u001b[0m\u001b[0;34m\u001b[0m\u001b[0;34m\u001b[0m\u001b[0m\n\u001b[0m\u001b[1;32m    217\u001b[0m \u001b[0;34m\u001b[0m\u001b[0m\n\u001b[1;32m    218\u001b[0m     \u001b[0;32mdef\u001b[0m \u001b[0mget_next_color\u001b[0m\u001b[0;34m(\u001b[0m\u001b[0mself\u001b[0m\u001b[0;34m)\u001b[0m\u001b[0;34m:\u001b[0m\u001b[0;34m\u001b[0m\u001b[0;34m\u001b[0m\u001b[0m\n",
            "\u001b[0;32m/usr/local/lib/python3.7/dist-packages/matplotlib/axes/_base.py\u001b[0m in \u001b[0;36m_plot_args\u001b[0;34m(self, tup, kwargs)\u001b[0m\n\u001b[1;32m    330\u001b[0m         \u001b[0;32mif\u001b[0m \u001b[0mlen\u001b[0m\u001b[0;34m(\u001b[0m\u001b[0mtup\u001b[0m\u001b[0;34m)\u001b[0m \u001b[0;34m==\u001b[0m \u001b[0;36m2\u001b[0m\u001b[0;34m:\u001b[0m\u001b[0;34m\u001b[0m\u001b[0;34m\u001b[0m\u001b[0m\n\u001b[1;32m    331\u001b[0m             \u001b[0mx\u001b[0m \u001b[0;34m=\u001b[0m \u001b[0m_check_1d\u001b[0m\u001b[0;34m(\u001b[0m\u001b[0mtup\u001b[0m\u001b[0;34m[\u001b[0m\u001b[0;36m0\u001b[0m\u001b[0;34m]\u001b[0m\u001b[0;34m)\u001b[0m\u001b[0;34m\u001b[0m\u001b[0;34m\u001b[0m\u001b[0m\n\u001b[0;32m--> 332\u001b[0;31m             \u001b[0my\u001b[0m \u001b[0;34m=\u001b[0m \u001b[0m_check_1d\u001b[0m\u001b[0;34m(\u001b[0m\u001b[0mtup\u001b[0m\u001b[0;34m[\u001b[0m\u001b[0;34m-\u001b[0m\u001b[0;36m1\u001b[0m\u001b[0;34m]\u001b[0m\u001b[0;34m)\u001b[0m\u001b[0;34m\u001b[0m\u001b[0;34m\u001b[0m\u001b[0m\n\u001b[0m\u001b[1;32m    333\u001b[0m         \u001b[0;32melse\u001b[0m\u001b[0;34m:\u001b[0m\u001b[0;34m\u001b[0m\u001b[0;34m\u001b[0m\u001b[0m\n\u001b[1;32m    334\u001b[0m             \u001b[0mx\u001b[0m\u001b[0;34m,\u001b[0m \u001b[0my\u001b[0m \u001b[0;34m=\u001b[0m \u001b[0mindex_of\u001b[0m\u001b[0;34m(\u001b[0m\u001b[0mtup\u001b[0m\u001b[0;34m[\u001b[0m\u001b[0;34m-\u001b[0m\u001b[0;36m1\u001b[0m\u001b[0;34m]\u001b[0m\u001b[0;34m)\u001b[0m\u001b[0;34m\u001b[0m\u001b[0;34m\u001b[0m\u001b[0m\n",
            "\u001b[0;32m/usr/local/lib/python3.7/dist-packages/matplotlib/cbook/__init__.py\u001b[0m in \u001b[0;36m_check_1d\u001b[0;34m(x)\u001b[0m\n\u001b[1;32m   1347\u001b[0m                     message='Support for multi-dimensional indexing')\n\u001b[1;32m   1348\u001b[0m \u001b[0;34m\u001b[0m\u001b[0m\n\u001b[0;32m-> 1349\u001b[0;31m                 \u001b[0mndim\u001b[0m \u001b[0;34m=\u001b[0m \u001b[0mx\u001b[0m\u001b[0;34m[\u001b[0m\u001b[0;34m:\u001b[0m\u001b[0;34m,\u001b[0m \u001b[0;32mNone\u001b[0m\u001b[0;34m]\u001b[0m\u001b[0;34m.\u001b[0m\u001b[0mndim\u001b[0m\u001b[0;34m\u001b[0m\u001b[0;34m\u001b[0m\u001b[0m\n\u001b[0m\u001b[1;32m   1350\u001b[0m                 \u001b[0;31m# we have definitely hit a pandas index or series object\u001b[0m\u001b[0;34m\u001b[0m\u001b[0;34m\u001b[0m\u001b[0;34m\u001b[0m\u001b[0m\n\u001b[1;32m   1351\u001b[0m                 \u001b[0;31m# cast to a numpy array.\u001b[0m\u001b[0;34m\u001b[0m\u001b[0;34m\u001b[0m\u001b[0;34m\u001b[0m\u001b[0m\n",
            "\u001b[0;32m/usr/local/lib/python3.7/dist-packages/pandas/core/frame.py\u001b[0m in \u001b[0;36m__getitem__\u001b[0;34m(self, key)\u001b[0m\n\u001b[1;32m   2904\u001b[0m             \u001b[0;32mif\u001b[0m \u001b[0mself\u001b[0m\u001b[0;34m.\u001b[0m\u001b[0mcolumns\u001b[0m\u001b[0;34m.\u001b[0m\u001b[0mnlevels\u001b[0m \u001b[0;34m>\u001b[0m \u001b[0;36m1\u001b[0m\u001b[0;34m:\u001b[0m\u001b[0;34m\u001b[0m\u001b[0;34m\u001b[0m\u001b[0m\n\u001b[1;32m   2905\u001b[0m                 \u001b[0;32mreturn\u001b[0m \u001b[0mself\u001b[0m\u001b[0;34m.\u001b[0m\u001b[0m_getitem_multilevel\u001b[0m\u001b[0;34m(\u001b[0m\u001b[0mkey\u001b[0m\u001b[0;34m)\u001b[0m\u001b[0;34m\u001b[0m\u001b[0;34m\u001b[0m\u001b[0m\n\u001b[0;32m-> 2906\u001b[0;31m             \u001b[0mindexer\u001b[0m \u001b[0;34m=\u001b[0m \u001b[0mself\u001b[0m\u001b[0;34m.\u001b[0m\u001b[0mcolumns\u001b[0m\u001b[0;34m.\u001b[0m\u001b[0mget_loc\u001b[0m\u001b[0;34m(\u001b[0m\u001b[0mkey\u001b[0m\u001b[0;34m)\u001b[0m\u001b[0;34m\u001b[0m\u001b[0;34m\u001b[0m\u001b[0m\n\u001b[0m\u001b[1;32m   2907\u001b[0m             \u001b[0;32mif\u001b[0m \u001b[0mis_integer\u001b[0m\u001b[0;34m(\u001b[0m\u001b[0mindexer\u001b[0m\u001b[0;34m)\u001b[0m\u001b[0;34m:\u001b[0m\u001b[0;34m\u001b[0m\u001b[0;34m\u001b[0m\u001b[0m\n\u001b[1;32m   2908\u001b[0m                 \u001b[0mindexer\u001b[0m \u001b[0;34m=\u001b[0m \u001b[0;34m[\u001b[0m\u001b[0mindexer\u001b[0m\u001b[0;34m]\u001b[0m\u001b[0;34m\u001b[0m\u001b[0;34m\u001b[0m\u001b[0m\n",
            "\u001b[0;32m/usr/local/lib/python3.7/dist-packages/pandas/core/indexes/range.py\u001b[0m in \u001b[0;36mget_loc\u001b[0;34m(self, key, method, tolerance)\u001b[0m\n\u001b[1;32m    356\u001b[0m                 \u001b[0;32mexcept\u001b[0m \u001b[0mValueError\u001b[0m \u001b[0;32mas\u001b[0m \u001b[0merr\u001b[0m\u001b[0;34m:\u001b[0m\u001b[0;34m\u001b[0m\u001b[0;34m\u001b[0m\u001b[0m\n\u001b[1;32m    357\u001b[0m                     \u001b[0;32mraise\u001b[0m \u001b[0mKeyError\u001b[0m\u001b[0;34m(\u001b[0m\u001b[0mkey\u001b[0m\u001b[0;34m)\u001b[0m \u001b[0;32mfrom\u001b[0m \u001b[0merr\u001b[0m\u001b[0;34m\u001b[0m\u001b[0;34m\u001b[0m\u001b[0m\n\u001b[0;32m--> 358\u001b[0;31m             \u001b[0;32mraise\u001b[0m \u001b[0mKeyError\u001b[0m\u001b[0;34m(\u001b[0m\u001b[0mkey\u001b[0m\u001b[0;34m)\u001b[0m\u001b[0;34m\u001b[0m\u001b[0;34m\u001b[0m\u001b[0m\n\u001b[0m\u001b[1;32m    359\u001b[0m         \u001b[0;32mreturn\u001b[0m \u001b[0msuper\u001b[0m\u001b[0;34m(\u001b[0m\u001b[0;34m)\u001b[0m\u001b[0;34m.\u001b[0m\u001b[0mget_loc\u001b[0m\u001b[0;34m(\u001b[0m\u001b[0mkey\u001b[0m\u001b[0;34m,\u001b[0m \u001b[0mmethod\u001b[0m\u001b[0;34m=\u001b[0m\u001b[0mmethod\u001b[0m\u001b[0;34m,\u001b[0m \u001b[0mtolerance\u001b[0m\u001b[0;34m=\u001b[0m\u001b[0mtolerance\u001b[0m\u001b[0;34m)\u001b[0m\u001b[0;34m\u001b[0m\u001b[0;34m\u001b[0m\u001b[0m\n\u001b[1;32m    360\u001b[0m \u001b[0;34m\u001b[0m\u001b[0m\n",
            "\u001b[0;31mKeyError\u001b[0m: (slice(None, None, None), None)"
          ]
        },
        {
          "output_type": "display_data",
          "data": {
            "image/png": "[encoded data removed]",
            "text/plain": [
              "<Figure size 1440x432 with 1 Axes>"
            ]
          },
          "metadata": {
            "tags": [],
            "needs_background": "light"
          }
        }
      ]
    },
    {
      "cell_type": "code",
      "metadata": {
        "colab": {
          "base_uri": "https://localhost:8080/",
          "height": 1000
        },
        "id": "hyxjDbjgBrSL",
        "outputId": "d9f77ad4-c3f3-4195-9ae2-d1a06a73241d"
      },
      "source": [
        "plt.figure(figsize=(10,50))\n",
        "plt.plot(log_lambda,df_weights)\n",
        "# label\n",
        "plt.xlabel('Log Lambda')\n",
        "plt.ylabel('Coeffients weights')\n",
        "plt.grid()\n",
        "# weight number\n",
        "for i in range(13):\n",
        "  plt.text(-2,df_weights.iloc[32][i],'%d'%i)\n",
        "\n",
        "plt.plot([-2,-2],[-1.1,1.1],'k:')"
      ],
      "execution_count": null,
      "outputs": [
        {
          "output_type": "error",
          "ename": "KeyError",
          "evalue": "ignored",
          "traceback": [
            "\u001b[0;31m---------------------------------------------------------------------------\u001b[0m",
            "\u001b[0;31mKeyError\u001b[0m                                  Traceback (most recent call last)",
            "\u001b[0;32m<ipython-input-64-1e832e9cd505>\u001b[0m in \u001b[0;36m<module>\u001b[0;34m()\u001b[0m\n\u001b[1;32m      1\u001b[0m \u001b[0mplt\u001b[0m\u001b[0;34m.\u001b[0m\u001b[0mfigure\u001b[0m\u001b[0;34m(\u001b[0m\u001b[0mfigsize\u001b[0m\u001b[0;34m=\u001b[0m\u001b[0;34m(\u001b[0m\u001b[0;36m10\u001b[0m\u001b[0;34m,\u001b[0m\u001b[0;36m50\u001b[0m\u001b[0;34m)\u001b[0m\u001b[0;34m)\u001b[0m\u001b[0;34m\u001b[0m\u001b[0;34m\u001b[0m\u001b[0m\n\u001b[0;32m----> 2\u001b[0;31m \u001b[0mplt\u001b[0m\u001b[0;34m.\u001b[0m\u001b[0mplot\u001b[0m\u001b[0;34m(\u001b[0m\u001b[0mlog_lambda\u001b[0m\u001b[0;34m,\u001b[0m\u001b[0mdf_weights\u001b[0m\u001b[0;34m)\u001b[0m\u001b[0;34m\u001b[0m\u001b[0;34m\u001b[0m\u001b[0m\n\u001b[0m\u001b[1;32m      3\u001b[0m \u001b[0;31m# label\u001b[0m\u001b[0;34m\u001b[0m\u001b[0;34m\u001b[0m\u001b[0;34m\u001b[0m\u001b[0m\n\u001b[1;32m      4\u001b[0m \u001b[0mplt\u001b[0m\u001b[0;34m.\u001b[0m\u001b[0mxlabel\u001b[0m\u001b[0;34m(\u001b[0m\u001b[0;34m'Log Lambda'\u001b[0m\u001b[0;34m)\u001b[0m\u001b[0;34m\u001b[0m\u001b[0;34m\u001b[0m\u001b[0m\n\u001b[1;32m      5\u001b[0m \u001b[0mplt\u001b[0m\u001b[0;34m.\u001b[0m\u001b[0mylabel\u001b[0m\u001b[0;34m(\u001b[0m\u001b[0;34m'Coeffients weights'\u001b[0m\u001b[0;34m)\u001b[0m\u001b[0;34m\u001b[0m\u001b[0;34m\u001b[0m\u001b[0m\n",
            "\u001b[0;32m/usr/local/lib/python3.7/dist-packages/matplotlib/pyplot.py\u001b[0m in \u001b[0;36mplot\u001b[0;34m(scalex, scaley, data, *args, **kwargs)\u001b[0m\n\u001b[1;32m   2761\u001b[0m     return gca().plot(\n\u001b[1;32m   2762\u001b[0m         *args, scalex=scalex, scaley=scaley, **({\"data\": data} if data\n\u001b[0;32m-> 2763\u001b[0;31m         is not None else {}), **kwargs)\n\u001b[0m\u001b[1;32m   2764\u001b[0m \u001b[0;34m\u001b[0m\u001b[0m\n\u001b[1;32m   2765\u001b[0m \u001b[0;34m\u001b[0m\u001b[0m\n",
            "\u001b[0;32m/usr/local/lib/python3.7/dist-packages/matplotlib/axes/_axes.py\u001b[0m in \u001b[0;36mplot\u001b[0;34m(self, scalex, scaley, data, *args, **kwargs)\u001b[0m\n\u001b[1;32m   1645\u001b[0m         \"\"\"\n\u001b[1;32m   1646\u001b[0m         \u001b[0mkwargs\u001b[0m \u001b[0;34m=\u001b[0m \u001b[0mcbook\u001b[0m\u001b[0;34m.\u001b[0m\u001b[0mnormalize_kwargs\u001b[0m\u001b[0;34m(\u001b[0m\u001b[0mkwargs\u001b[0m\u001b[0;34m,\u001b[0m \u001b[0mmlines\u001b[0m\u001b[0;34m.\u001b[0m\u001b[0mLine2D\u001b[0m\u001b[0;34m)\u001b[0m\u001b[0;34m\u001b[0m\u001b[0;34m\u001b[0m\u001b[0m\n\u001b[0;32m-> 1647\u001b[0;31m         \u001b[0mlines\u001b[0m \u001b[0;34m=\u001b[0m \u001b[0;34m[\u001b[0m\u001b[0;34m*\u001b[0m\u001b[0mself\u001b[0m\u001b[0;34m.\u001b[0m\u001b[0m_get_lines\u001b[0m\u001b[0;34m(\u001b[0m\u001b[0;34m*\u001b[0m\u001b[0margs\u001b[0m\u001b[0;34m,\u001b[0m \u001b[0mdata\u001b[0m\u001b[0;34m=\u001b[0m\u001b[0mdata\u001b[0m\u001b[0;34m,\u001b[0m \u001b[0;34m**\u001b[0m\u001b[0mkwargs\u001b[0m\u001b[0;34m)\u001b[0m\u001b[0;34m]\u001b[0m\u001b[0;34m\u001b[0m\u001b[0;34m\u001b[0m\u001b[0m\n\u001b[0m\u001b[1;32m   1648\u001b[0m         \u001b[0;32mfor\u001b[0m \u001b[0mline\u001b[0m \u001b[0;32min\u001b[0m \u001b[0mlines\u001b[0m\u001b[0;34m:\u001b[0m\u001b[0;34m\u001b[0m\u001b[0;34m\u001b[0m\u001b[0m\n\u001b[1;32m   1649\u001b[0m             \u001b[0mself\u001b[0m\u001b[0;34m.\u001b[0m\u001b[0madd_line\u001b[0m\u001b[0;34m(\u001b[0m\u001b[0mline\u001b[0m\u001b[0;34m)\u001b[0m\u001b[0;34m\u001b[0m\u001b[0;34m\u001b[0m\u001b[0m\n",
            "\u001b[0;32m/usr/local/lib/python3.7/dist-packages/matplotlib/axes/_base.py\u001b[0m in \u001b[0;36m__call__\u001b[0;34m(self, *args, **kwargs)\u001b[0m\n\u001b[1;32m    214\u001b[0m                 \u001b[0mthis\u001b[0m \u001b[0;34m+=\u001b[0m \u001b[0margs\u001b[0m\u001b[0;34m[\u001b[0m\u001b[0;36m0\u001b[0m\u001b[0;34m]\u001b[0m\u001b[0;34m,\u001b[0m\u001b[0;34m\u001b[0m\u001b[0;34m\u001b[0m\u001b[0m\n\u001b[1;32m    215\u001b[0m                 \u001b[0margs\u001b[0m \u001b[0;34m=\u001b[0m \u001b[0margs\u001b[0m\u001b[0;34m[\u001b[0m\u001b[0;36m1\u001b[0m\u001b[0;34m:\u001b[0m\u001b[0;34m]\u001b[0m\u001b[0;34m\u001b[0m\u001b[0;34m\u001b[0m\u001b[0m\n\u001b[0;32m--> 216\u001b[0;31m             \u001b[0;32myield\u001b[0m \u001b[0;32mfrom\u001b[0m \u001b[0mself\u001b[0m\u001b[0;34m.\u001b[0m\u001b[0m_plot_args\u001b[0m\u001b[0;34m(\u001b[0m\u001b[0mthis\u001b[0m\u001b[0;34m,\u001b[0m \u001b[0mkwargs\u001b[0m\u001b[0;34m)\u001b[0m\u001b[0;34m\u001b[0m\u001b[0;34m\u001b[0m\u001b[0m\n\u001b[0m\u001b[1;32m    217\u001b[0m \u001b[0;34m\u001b[0m\u001b[0m\n\u001b[1;32m    218\u001b[0m     \u001b[0;32mdef\u001b[0m \u001b[0mget_next_color\u001b[0m\u001b[0;34m(\u001b[0m\u001b[0mself\u001b[0m\u001b[0;34m)\u001b[0m\u001b[0;34m:\u001b[0m\u001b[0;34m\u001b[0m\u001b[0;34m\u001b[0m\u001b[0m\n",
            "\u001b[0;32m/usr/local/lib/python3.7/dist-packages/matplotlib/axes/_base.py\u001b[0m in \u001b[0;36m_plot_args\u001b[0;34m(self, tup, kwargs)\u001b[0m\n\u001b[1;32m    330\u001b[0m         \u001b[0;32mif\u001b[0m \u001b[0mlen\u001b[0m\u001b[0;34m(\u001b[0m\u001b[0mtup\u001b[0m\u001b[0;34m)\u001b[0m \u001b[0;34m==\u001b[0m \u001b[0;36m2\u001b[0m\u001b[0;34m:\u001b[0m\u001b[0;34m\u001b[0m\u001b[0;34m\u001b[0m\u001b[0m\n\u001b[1;32m    331\u001b[0m             \u001b[0mx\u001b[0m \u001b[0;34m=\u001b[0m \u001b[0m_check_1d\u001b[0m\u001b[0;34m(\u001b[0m\u001b[0mtup\u001b[0m\u001b[0;34m[\u001b[0m\u001b[0;36m0\u001b[0m\u001b[0;34m]\u001b[0m\u001b[0;34m)\u001b[0m\u001b[0;34m\u001b[0m\u001b[0;34m\u001b[0m\u001b[0m\n\u001b[0;32m--> 332\u001b[0;31m             \u001b[0my\u001b[0m \u001b[0;34m=\u001b[0m \u001b[0m_check_1d\u001b[0m\u001b[0;34m(\u001b[0m\u001b[0mtup\u001b[0m\u001b[0;34m[\u001b[0m\u001b[0;34m-\u001b[0m\u001b[0;36m1\u001b[0m\u001b[0;34m]\u001b[0m\u001b[0;34m)\u001b[0m\u001b[0;34m\u001b[0m\u001b[0;34m\u001b[0m\u001b[0m\n\u001b[0m\u001b[1;32m    333\u001b[0m         \u001b[0;32melse\u001b[0m\u001b[0;34m:\u001b[0m\u001b[0;34m\u001b[0m\u001b[0;34m\u001b[0m\u001b[0m\n\u001b[1;32m    334\u001b[0m             \u001b[0mx\u001b[0m\u001b[0;34m,\u001b[0m \u001b[0my\u001b[0m \u001b[0;34m=\u001b[0m \u001b[0mindex_of\u001b[0m\u001b[0;34m(\u001b[0m\u001b[0mtup\u001b[0m\u001b[0;34m[\u001b[0m\u001b[0;34m-\u001b[0m\u001b[0;36m1\u001b[0m\u001b[0;34m]\u001b[0m\u001b[0;34m)\u001b[0m\u001b[0;34m\u001b[0m\u001b[0;34m\u001b[0m\u001b[0m\n",
            "\u001b[0;32m/usr/local/lib/python3.7/dist-packages/matplotlib/cbook/__init__.py\u001b[0m in \u001b[0;36m_check_1d\u001b[0;34m(x)\u001b[0m\n\u001b[1;32m   1347\u001b[0m                     message='Support for multi-dimensional indexing')\n\u001b[1;32m   1348\u001b[0m \u001b[0;34m\u001b[0m\u001b[0m\n\u001b[0;32m-> 1349\u001b[0;31m                 \u001b[0mndim\u001b[0m \u001b[0;34m=\u001b[0m \u001b[0mx\u001b[0m\u001b[0;34m[\u001b[0m\u001b[0;34m:\u001b[0m\u001b[0;34m,\u001b[0m \u001b[0;32mNone\u001b[0m\u001b[0;34m]\u001b[0m\u001b[0;34m.\u001b[0m\u001b[0mndim\u001b[0m\u001b[0;34m\u001b[0m\u001b[0;34m\u001b[0m\u001b[0m\n\u001b[0m\u001b[1;32m   1350\u001b[0m                 \u001b[0;31m# we have definitely hit a pandas index or series object\u001b[0m\u001b[0;34m\u001b[0m\u001b[0;34m\u001b[0m\u001b[0;34m\u001b[0m\u001b[0m\n\u001b[1;32m   1351\u001b[0m                 \u001b[0;31m# cast to a numpy array.\u001b[0m\u001b[0;34m\u001b[0m\u001b[0;34m\u001b[0m\u001b[0;34m\u001b[0m\u001b[0m\n",
            "\u001b[0;32m/usr/local/lib/python3.7/dist-packages/pandas/core/frame.py\u001b[0m in \u001b[0;36m__getitem__\u001b[0;34m(self, key)\u001b[0m\n\u001b[1;32m   2904\u001b[0m             \u001b[0;32mif\u001b[0m \u001b[0mself\u001b[0m\u001b[0;34m.\u001b[0m\u001b[0mcolumns\u001b[0m\u001b[0;34m.\u001b[0m\u001b[0mnlevels\u001b[0m \u001b[0;34m>\u001b[0m \u001b[0;36m1\u001b[0m\u001b[0;34m:\u001b[0m\u001b[0;34m\u001b[0m\u001b[0;34m\u001b[0m\u001b[0m\n\u001b[1;32m   2905\u001b[0m                 \u001b[0;32mreturn\u001b[0m \u001b[0mself\u001b[0m\u001b[0;34m.\u001b[0m\u001b[0m_getitem_multilevel\u001b[0m\u001b[0;34m(\u001b[0m\u001b[0mkey\u001b[0m\u001b[0;34m)\u001b[0m\u001b[0;34m\u001b[0m\u001b[0;34m\u001b[0m\u001b[0m\n\u001b[0;32m-> 2906\u001b[0;31m             \u001b[0mindexer\u001b[0m \u001b[0;34m=\u001b[0m \u001b[0mself\u001b[0m\u001b[0;34m.\u001b[0m\u001b[0mcolumns\u001b[0m\u001b[0;34m.\u001b[0m\u001b[0mget_loc\u001b[0m\u001b[0;34m(\u001b[0m\u001b[0mkey\u001b[0m\u001b[0;34m)\u001b[0m\u001b[0;34m\u001b[0m\u001b[0;34m\u001b[0m\u001b[0m\n\u001b[0m\u001b[1;32m   2907\u001b[0m             \u001b[0;32mif\u001b[0m \u001b[0mis_integer\u001b[0m\u001b[0;34m(\u001b[0m\u001b[0mindexer\u001b[0m\u001b[0;34m)\u001b[0m\u001b[0;34m:\u001b[0m\u001b[0;34m\u001b[0m\u001b[0;34m\u001b[0m\u001b[0m\n\u001b[1;32m   2908\u001b[0m                 \u001b[0mindexer\u001b[0m \u001b[0;34m=\u001b[0m \u001b[0;34m[\u001b[0m\u001b[0mindexer\u001b[0m\u001b[0;34m]\u001b[0m\u001b[0;34m\u001b[0m\u001b[0;34m\u001b[0m\u001b[0m\n",
            "\u001b[0;32m/usr/local/lib/python3.7/dist-packages/pandas/core/indexes/range.py\u001b[0m in \u001b[0;36mget_loc\u001b[0;34m(self, key, method, tolerance)\u001b[0m\n\u001b[1;32m    356\u001b[0m                 \u001b[0;32mexcept\u001b[0m \u001b[0mValueError\u001b[0m \u001b[0;32mas\u001b[0m \u001b[0merr\u001b[0m\u001b[0;34m:\u001b[0m\u001b[0;34m\u001b[0m\u001b[0;34m\u001b[0m\u001b[0m\n\u001b[1;32m    357\u001b[0m                     \u001b[0;32mraise\u001b[0m \u001b[0mKeyError\u001b[0m\u001b[0;34m(\u001b[0m\u001b[0mkey\u001b[0m\u001b[0;34m)\u001b[0m \u001b[0;32mfrom\u001b[0m \u001b[0merr\u001b[0m\u001b[0;34m\u001b[0m\u001b[0;34m\u001b[0m\u001b[0m\n\u001b[0;32m--> 358\u001b[0;31m             \u001b[0;32mraise\u001b[0m \u001b[0mKeyError\u001b[0m\u001b[0;34m(\u001b[0m\u001b[0mkey\u001b[0m\u001b[0;34m)\u001b[0m\u001b[0;34m\u001b[0m\u001b[0;34m\u001b[0m\u001b[0m\n\u001b[0m\u001b[1;32m    359\u001b[0m         \u001b[0;32mreturn\u001b[0m \u001b[0msuper\u001b[0m\u001b[0;34m(\u001b[0m\u001b[0;34m)\u001b[0m\u001b[0;34m.\u001b[0m\u001b[0mget_loc\u001b[0m\u001b[0;34m(\u001b[0m\u001b[0mkey\u001b[0m\u001b[0;34m,\u001b[0m \u001b[0mmethod\u001b[0m\u001b[0;34m=\u001b[0m\u001b[0mmethod\u001b[0m\u001b[0;34m,\u001b[0m \u001b[0mtolerance\u001b[0m\u001b[0;34m=\u001b[0m\u001b[0mtolerance\u001b[0m\u001b[0;34m)\u001b[0m\u001b[0;34m\u001b[0m\u001b[0;34m\u001b[0m\u001b[0m\n\u001b[1;32m    360\u001b[0m \u001b[0;34m\u001b[0m\u001b[0m\n",
            "\u001b[0;31mKeyError\u001b[0m: (slice(None, None, None), None)"
          ]
        },
        {
          "output_type": "display_data",
          "data": {
            "image/png": "[encoded data removed]",
            "text/plain": [
              "<Figure size 720x3600 with 1 Axes>"
            ]
          },
          "metadata": {
            "tags": [],
            "needs_background": "light"
          }
        }
      ]
    },
    {
      "cell_type": "markdown",
      "metadata": {
        "id": "mxl3R4COCLuP"
      },
      "source": [
        "**Feature selected**\n",
        "\n",
        "*** : 8,4,5\n",
        "\n",
        "**: 10\n",
        "\n",
        "*: 1, 0, 6, 7, 9"
      ]
    },
    {
      "cell_type": "code",
      "metadata": {
        "id": "CP3ws5lCC_Ku"
      },
      "source": [
        "x = pickle.load(open('preprocessing/x_norm.pickle','rb'))"
      ],
      "execution_count": null,
      "outputs": []
    },
    {
      "cell_type": "code",
      "metadata": {
        "id": "Hic6ReRVDCmw"
      },
      "source": [
        "x.drop('index',axis=1,inplace=True)"
      ],
      "execution_count": null,
      "outputs": []
    },
    {
      "cell_type": "code",
      "metadata": {
        "colab": {
          "base_uri": "https://localhost:8080/"
        },
        "id": "PDdqdH5MDFUQ",
        "outputId": "865706f3-da24-4986-8d77-17e75fb5340c"
      },
      "source": [
        "x.iloc[:,[8,4,5,10,1,0,6,7,9]].columns"
      ],
      "execution_count": null,
      "outputs": [
        {
          "output_type": "execute_result",
          "data": {
            "text/plain": [
              "Index(['NoOfGamesBought', 'FrquncyOfPurchase', 'NoOfUnitsPurchased',\n",
              "       'fct_Favorite', 'MinAgeOfChild', 'NoOfChildren', 'FrequencyOFPlay',\n",
              "       'NoOfGamesPlayed', 'city_1'],\n",
              "      dtype='object')"
            ]
          },
          "metadata": {
            "tags": []
          },
          "execution_count": 81
        }
      ]
    }
  ]
}